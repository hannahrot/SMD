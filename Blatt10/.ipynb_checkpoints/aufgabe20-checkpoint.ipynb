{
 "cells": [
  {
   "cell_type": "markdown",
   "metadata": {},
   "source": [
    "# Aufgabe 20"
   ]
  },
  {
   "cell_type": "markdown",
   "metadata": {},
   "source": [
    "a) Worauf müssen Sie bei einem 𝑘-NN-Algorithmus achten, wenn die Attribute sich stark in ihren\n",
    "Größenordnungen unterscheiden?\n"
   ]
  },
  {
   "cell_type": "markdown",
   "metadata": {},
   "source": [
    "Unterscheiden sich die Attribute stark in ihrer Größenordnung, dann werden diese unterschiedlich stark gewichtet wodurch der Klassifizierer nicht mehr so genau arbeiten kann. Aus diesem Grund ist eine Normierung wichtig."
   ]
  },
  {
   "cell_type": "markdown",
   "metadata": {},
   "source": [
    "b) Warum bezeichnet man den 𝑘-NN als sogenannten „lazy learner“? Wie sind die Laufzeiten für\n",
    "Lern- und Anwendungs-Phase? Wie sind sie im Vergleich zu anderen Algorithmen wie bspw.\n",
    "einem Random Forest?"
   ]
  },
  {
   "cell_type": "markdown",
   "metadata": {},
   "source": [
    "Der k-NN wird als \"lazy learner\" bezeichnet, weil der Algorithmus die Trainingsdaten nicht verwendet, um zu generalisieren, sondern den Trainingsdatensatz auswendig lernt. Die Anwendungsphase ist relativ lang und die Lernphase sehr kurz, weil Datensatz einfach auswendig gelernt wird.\n",
    "\n"
   ]
  },
  {
   "cell_type": "markdown",
   "metadata": {},
   "source": [
    "c) Implementieren Sie einen 𝑘-NN Algorithmus zur Klassifikation von Ereignissen. Halten sie sich\n",
    "hierbei an die in der beiliegenden Datei class_structure.py vorgegebenen Klassenstruktur.\n",
    "Die Methode predict soll dabei ein numpy array ausgeben, dass das vorhergesagte Label für\n",
    "jedes Sample enthält. Vorgehen: Für jedes zu klassifizierende Ereignis:\n",
    "1) Berechnung der Abstände zu allen Punkten des Trainingssamples.\n",
    "2) Bestimmung der 𝑘 Trainingsevents mit dem kleinsten Abstand (Hinweis: Ermitteln Sie nur\n",
    "die Indizes der Ereignisse, statt das Array an sich zu sortieren).\n",
    "Tipp: Die Python-Funktion numpy.argsort() ist hilfreich.\n",
    "3) Bestimmung des Labels, das in diesen Ereignissen am häufigsten vorkommt.\n"
   ]
  },
  {
   "cell_type": "code",
   "execution_count": 6,
   "metadata": {
    "collapsed": true
   },
   "outputs": [],
   "source": [
    "\n",
    "import numpy as np\n",
    "from scipy.spatial.distance import cdist\n",
    "\n",
    "class KNN:\n",
    "    '''KNN Classifier.\n",
    "\n",
    "    Attributes\n",
    "    ----------\n",
    "    k : int\n",
    "        Number of neighbors to consider.\n",
    "    '''\n",
    "    def __init__(self, k):\n",
    "        '''Initialization.\n",
    "        Parameters are stored as member variables/attributes.\n",
    "        \n",
    "        Parameters\n",
    "        ----------\n",
    "        k : int\n",
    "            Number of neighbors to consider.\n",
    "        '''\n",
    "        self.k = k\n",
    "\n",
    "    def fit(self, X, y):\n",
    "        '''Fit routine.\n",
    "        Training data is stored within object.\n",
    "        \n",
    "        Parameters\n",
    "        ----------\n",
    "        X : numpy.array, shape=(n_samples, n_attributes)\n",
    "            Training data.\n",
    "        y : numpy.array shape=(n_samples)\n",
    "            Training labels.\n",
    "        '''\n",
    "        self.train_data = X\n",
    "        self.train_labels = y\n",
    "\n",
    "    def predict(self, X):\n",
    "        '''Prediction routine.\n",
    "        Predict class association of each sample of X.\n",
    "        \n",
    "        Parameters\n",
    "        ----------\n",
    "        X : numpy.array, shape=(n_samples, n_attributes)\n",
    "            Data to classify.\n",
    "        \n",
    "        Returns\n",
    "        -------\n",
    "        prediction : numpy.array, shape=(n_samples)\n",
    "            Predictions, containing the predicted label of each sample.\n",
    "        '''\n",
    "        \n",
    "        self.test_data = X\n",
    "        \n",
    "        predicted_labels = []\n",
    "        \n",
    "        for i in range(len(self.test_data)):\n",
    "            background = 0\n",
    "            signal = 0\n",
    "            \n",
    "            xx = self.test_data[i]\n",
    "            \n",
    "            distance = cdist(xx, self.train_data)[0]\n",
    "            distance_list = np.stack((distance, self.train_labels), axis=1) \n",
    "            #Eine Liste mit den Abständen der Trainingsdaten zu Testdaten und der zugehörigen Labels der Trainingsdaten\n",
    "            \n",
    "            sorted_distance_list = distance_list[np.argsort(distance_list[:,0])] #Liste wird sortiert (anhand Distanz)\n",
    "            neighbours = sorted_distance_list[:self.k] #Bestimmung der k Trainingsevents mit dem kleinsten Abstand\n",
    "            #Bestimmung des Labels, was am häufigsten vorkommt:\n",
    "            for j in range(self.k):\n",
    "                if neighbours[j,1] == 0:\n",
    "                    background += 1\n",
    "                else:\n",
    "                    signal +=1\n",
    "            if background >= signal:\n",
    "                predicted_labels.append(0)\n",
    "            elif background < signal:\n",
    "                predicted_labels.append(1)\n",
    "                \n",
    "        return np.array(predicted_labels)\n",
    "      #  print(np.array(predicted_labels))"
   ]
  },
  {
   "cell_type": "code",
   "execution_count": null,
   "metadata": {
    "collapsed": true
   },
   "outputs": [],
   "source": []
  },
  {
   "cell_type": "code",
   "execution_count": null,
   "metadata": {
    "collapsed": true
   },
   "outputs": [],
   "source": []
  }
 ],
 "metadata": {
  "kernelspec": {
   "display_name": "Python 3",
   "language": "python",
   "name": "python3"
  },
  "language_info": {
   "codemirror_mode": {
    "name": "ipython",
    "version": 3
   },
   "file_extension": ".py",
   "mimetype": "text/x-python",
   "name": "python",
   "nbconvert_exporter": "python",
   "pygments_lexer": "ipython3",
   "version": "3.6.1"
  }
 },
 "nbformat": 4,
 "nbformat_minor": 2
}
