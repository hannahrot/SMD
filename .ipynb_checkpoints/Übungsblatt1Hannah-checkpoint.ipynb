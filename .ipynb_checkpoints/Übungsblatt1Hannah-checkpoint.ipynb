{
 "cells": [
  {
   "cell_type": "markdown",
   "metadata": {},
   "source": [
    "#Aufgabe 2 Numerische Stabilität und Kondition\n",
    "\n",
    "Der Ausdruck f(E, Θ) stellt einen Summanden des differentiellen Wirkungsquerschnitts für die Reak-\n",
    "tion e − e + → γγ dar und ist gegeben durch\n",
    "f(E, Θ) =\n",
    "2 + sin 2 Θ\n",
    ".\n",
    "1 − β 2 cos 2 Θ\n",
    "mit\n",
    "β = √1 − γ −2 ,\n",
    "γ=\n",
    "E e\n",
    "m e\n",
    "(m e = 511 keV)."
   ]
  },
  {
   "cell_type": "markdown",
   "metadata": {},
   "source": [
    "(a) Ist diese Gleichung für f(E, Θ) numerisch stabil? In welchem Bereich von Θ ist die Gleichung\n",
    "für E e = 50 GeV numerisch instabil?"
   ]
  },
  {
   "cell_type": "markdown",
   "metadata": {},
   "source": [
    "Was sorgt für Instabilität?\n",
    "1. Subtraktion gleich großer Zahlen\n",
    "2. Division durch kleine Zahlen\n",
    "3. Multiplikation mit großen Zahlen"
   ]
  },
  {
   "cell_type": "markdown",
   "metadata": {},
   "source": [
    "2 + sin²Θ: hier kann keine Unstabilität auftreten.\n",
    "\n",
    "β²: Um β zu berechnen muss zunächst γ berechnet werden.\n",
    "    Hier kann Punkt 2 verletzt werden, wenn E >> m ist.\n",
    "    Dann ist γ groß und somit besteht bei der Berechnung von β kein Problem.\n",
    "    Ist γ jedoch ungefähr 1 (also E ungefähr m), werden bei der Berechnung von β gleich große Zahlen subrahiert, was Regel 1 verletzt.\n",
    "    \n",
    "β²cos²Θ: β und cosΘ sind beide durch 1 beschränkt und somit kann Regel 3 nicht verletzt werden.\n",
    "1-β²cos²Θ: Regel 1 wird verletzt, wenn sowohl β als auch der Betrag von cosΘ ca. 1 sind. Dies ist der Fall, wenn E >> m ist oder wenn Θ 0 oder $\\pi$ ist.\n",
    "In diesem Fall würde auch der Zähler klein werden, was Regel 1 verletzen würde."
   ]
  },
  {
   "cell_type": "markdown",
   "metadata": {},
   "source": [
    "Ist E = 50GeV wird β ca. 1. Somit ist die Gleichung instabil, wenn der zuletzt beschriebene Fall eintritt und Θ im Bereich von 0 oder $\\pi$ ist."
   ]
  },
  {
   "cell_type": "markdown",
   "metadata": {},
   "source": [
    "(b) Beheben Sie die Stabilitätsprobleme durch eine geeignete analytische Umformung. (Hinweis:\n",
    "Nutzen Sie 1 − β 2 = 1 / γ 2 und 1 = sin 2 Θ + cos 2 Θ)"
   ]
  },
  {
   "cell_type": "markdown",
   "metadata": {},
   "source": [
    "$\\frac{2+sin²\\theta}{1-\\beta²cos²\\theta} = \\frac{2+sin²\\theta}{sin²\\theta+ cos²\\theta-\\beta²cos²\\theta} = \\frac{2+sin²\\theta}{sin²\\theta+1/\\gamma²cos²\\theta}$"
   ]
  },
  {
   "cell_type": "markdown",
   "metadata": {},
   "source": [
    "(c) Zeigen Sie, dass Sie die Stabilitätsprobleme behoben haben, indem Sie beide Gleichungen im\n",
    "kritischen Intervall darstellen."
   ]
  },
  {
   "cell_type": "code",
   "execution_count": 10,
   "metadata": {},
   "outputs": [
    {
     "data": {
      "image/png": "[encoded data removed]",
      "text/plain": [
       "<Figure size 432x288 with 1 Axes>"
      ]
     },
     "metadata": {
      "needs_background": "light"
     },
     "output_type": "display_data"
    }
   ],
   "source": [
    "import matplotlib.pyplot as plt\n",
    "import numpy as np\n",
    "\n",
    "#da nur der betrag von sin bzw cos entscheident ist wird nur der bereich um 0 dargestellt\n",
    "Θ = np.linspace(-0.25,0.25,100)\n",
    "γ = 5e9/511e3 \n",
    "β = np.sqrt(1-γ**(-2))\n",
    "\n",
    "\n",
    "plt.plot(Θ, (2+np.sin(Θ)**2)/(1- β**2*np.cos(Θ)**2), label=\"Original\")\n",
    "plt.plot(Θ, (2+np.sin(Θ)**2)/(1/(γ**2)*np.cos(Θ)**2+np.sin(Θ)**2),\".\", label=\"Umformung\",)\n",
    "plt.legend()\n",
    "\n",
    "None"
   ]
  },
  {
   "cell_type": "markdown",
   "metadata": {},
   "source": [
    "Kein Unterschied zu sehen, aber war das auch mit darstellen gemeint? Oder dass man erneut beschreiben soll warum das jetzt kein Problem mehr ist?\n",
    "Aus der Differenz ist eine Summe geworden."
   ]
  },
  {
   "cell_type": "markdown",
   "metadata": {},
   "source": [
    "(d) Berechnen Sie die Konditionszahl. Wie hängt diese von Θ ab?"
   ]
  },
  {
   "cell_type": "markdown",
   "metadata": {},
   "source": [
    "Aus der Vorlesung: $K = | x \\frac{f'(x)}{f(x)} |$\n",
    "\n",
    "$f'(\\theta) = \\frac{2 cos(\\theta) sin(\\theta)}{1- \\beta² cos²(\\theta)} - \\frac{2 \\beta² cos(\\theta) sin³(\\theta)}{(1- \\beta² cos²(\\theta))²} $\n",
    "\n",
    "$K = | \\frac{\\theta}{2 + sin²\\theta} \\cdot ( 2 cos\\theta sin\\theta - \\frac{2 \\beta² cos(\\theta) sin³(\\theta)}{1- \\beta² cos²(\\theta)} |$"
   ]
  },
  {
   "cell_type": "markdown",
   "metadata": {},
   "source": [
    "(e) Stellen Sie den Verlauf der Konditionszahl als Funktion von Θ (0 ≤ Θ ≤ π) grafisch dar. In\n",
    "welchem Bereich ist das Problem gut bzw. schlecht konditioniert?"
   ]
  },
  {
   "cell_type": "code",
   "execution_count": 15,
   "metadata": {},
   "outputs": [
    {
     "data": {
      "text/plain": [
       "[<matplotlib.lines.Line2D at 0x7f8af7b8df90>]"
      ]
     },
     "execution_count": 15,
     "metadata": {},
     "output_type": "execute_result"
    },
    {
     "data": {
      "image/png": "[encoded data removed]",
      "text/plain": [
       "<Figure size 432x288 with 1 Axes>"
      ]
     },
     "metadata": {
      "needs_background": "light"
     },
     "output_type": "display_data"
    }
   ],
   "source": [
    "Θ = np.linspace(0, np.pi ,100)\n",
    "γ = 5e9/511e3 \n",
    "β = np.sqrt(1-γ**(-2))\n",
    "\n",
    "plt.plot(Θ, np.abs(Θ/( 2 + np.sin(Θ)**2 )* ( 2* np.cos(Θ) * np.sin(Θ)) - (2 * β**2 * np.cos(Θ) * np.sin(Θ)**3)/(1- β**2 * np.cos(Θ)**2)) )"
   ]
  },
  {
   "cell_type": "markdown",
   "metadata": {},
   "source": [
    "(f) Was ist der Unterschied zwischen Stabilität und Kondition?"
   ]
  },
  {
   "cell_type": "code",
   "execution_count": null,
   "metadata": {},
   "outputs": [],
   "source": []
  }
 ],
 "metadata": {
  "kernelspec": {
   "display_name": "Python 3",
   "language": "python",
   "name": "python3"
  },
  "language_info": {
   "codemirror_mode": {
    "name": "ipython",
    "version": 3
   },
   "file_extension": ".py",
   "mimetype": "text/x-python",
   "name": "python",
   "nbconvert_exporter": "python",
   "pygments_lexer": "ipython3",
   "version": "3.7.5"
  }
 },
 "nbformat": 4,
 "nbformat_minor": 2
}
