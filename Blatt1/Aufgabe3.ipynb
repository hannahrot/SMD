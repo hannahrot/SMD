{
 "cells": [
  {
   "cell_type": "markdown",
   "metadata": {},
   "source": [
    "# Aufgabe 3 "
   ]
  },
  {
   "cell_type": "markdown",
   "metadata": {},
   "source": [
    "\n",
    "\n",
    "\n",
    "Nutzen Sie für diese Aufgabe die Schreibweise für Wahrscheinlichkeiten aus der Vorlesung (z.B. 𝑃(𝑊rot+𝑊blau=42)=…,𝑃(𝑊rot+𝑊blau=42∣𝑊rot=4)=…). Sie würfeln mit zwei Würfeln, einem roten und einem blauen. Wie groß ist die Wahrscheinlichkeit dafür, dass\n",
    "\n",
    "(a) die Summe der Punkte 9 ergibt?"
   ]
  },
  {
   "cell_type": "markdown",
   "metadata": {},
   "source": [
    "a) Es gibt insgesamt $6^2=36$ Möglichkeiten, die Würfel zu würfeln (da diese unterscheidbar sind). Es gibt 4 Möglichkeiten eine 9 zu würfeln (3 und 6, 6 und 3, 4 und 5, 5 und 4)\n",
    "\n",
    "$\\rightarrow P(\\text{Summe=}9)=\\frac{4}{36}= \\frac{1}{9} \\approx 0,11$"
   ]
  },
  {
   "cell_type": "markdown",
   "metadata": {},
   "source": [
    "(b) die Summe der Punkte 9 oder mehr ergibt?"
   ]
  },
  {
   "cell_type": "markdown",
   "metadata": {},
   "source": [
    "b) Es gibt 10 Möglichkeiten eine Summe von 9 oder mehr zu würfeln. \n",
    "\n",
    "$\\rightarrow P(\\text{Summe}\\geq 9)=\\frac{10}{36}= \\frac{5}{18}\\approx 0,28$"
   ]
  },
  {
   "cell_type": "markdown",
   "metadata": {},
   "source": [
    "(c) ein Würfel 4, der andere 5 Punkte zeigt?"
   ]
  },
  {
   "cell_type": "markdown",
   "metadata": {},
   "source": [
    "c) Hierfür gibt es zwei Möglichkeiten: Roter Würfel 4, blauer Würfel 5 und Roter Würfel 5, blauer Würfel 4. \n",
    "\n",
    "$\\rightarrow P(\\text{Würfelzahl 4} \\wedge \\text{Würfelzahl 5})=\\frac{2}{36}= \\frac{1}{18} \\approx 0,06$"
   ]
  },
  {
   "cell_type": "markdown",
   "metadata": {},
   "source": [
    "(d) der rote Würfel 4, der blaue 5 Punkte zeigt?"
   ]
  },
  {
   "cell_type": "markdown",
   "metadata": {},
   "source": [
    "Es gibt nur eine Möglichkeit.\n",
    "\n",
    "$\\rightarrow P(W_{rot}=4 \\wedge W_{blau}=5 )=\\frac{1}{36} \\approx 0,03$"
   ]
  },
  {
   "cell_type": "markdown",
   "metadata": {},
   "source": [
    "Sie werfen die Würfel so, dass der blaue Würfel hinter einen Gegenstand rollt, sodass Sie ihn zunächst nicht sehen können. Der rote Würfel zeigt eine 4. Nachdem Sie das gesehen haben, wie groß ist dann die Wahrscheinlichkeit dafür, dass"
   ]
  },
  {
   "cell_type": "markdown",
   "metadata": {},
   "source": [
    "(e) die Summe der Punkte 9 ergibt?"
   ]
  },
  {
   "cell_type": "markdown",
   "metadata": {},
   "source": [
    "Wenn die Summe genau 9 betragen soll, muss der blaue Würfel eine 5 anzeigen\n",
    "\n",
    "Satz von Bayes: \n",
    "$p(W_{blau}=5|W_{rot}=4)=\\frac{P(W_{rot}=4|W_{blau}=5) \\cdot P(W_{blau}=5)}{P(W_{rot}=4)}$\n",
    "\n",
    "\n",
    "Mit $P(W_{rot}=4|W_{blau}=5)=\\frac{P(W_{rot}=4 \\wedge W_{blau}=5)}{P(W_{blau}=5)}\n",
    "=\\frac{\\frac{1}{6}\\cdot\\frac{1}{6}}{\\frac{1}{6}}=\\frac{1}{6}$\n",
    "\n",
    "$\\rightarrow p(W_{blau}=5|W_{rot}=4)= \\frac{\\frac{1}{6}\\cdot\\frac{1}{6}}{\\frac{1}{6}}=\\frac{1}{6} $"
   ]
  },
  {
   "cell_type": "markdown",
   "metadata": {},
   "source": [
    "(f) die Summe der Punkte 9 oder mehr ergibt?"
   ]
  },
  {
   "cell_type": "markdown",
   "metadata": {},
   "source": [
    "$p(W_{blau}=5 \\vee 6|W_{rot}=4)=\\frac{P(W_{rot}=4|W_{blau}=5 \\vee 6) \\cdot P(W_{blau}=5 \\vee 6)}{P(W_{rot}=4)}$\n",
    "\n",
    "Mit $P(W_{rot}=4|W_{blau}=5 \\vee 6 )=\\frac{P(W_{rot}=4 \\wedge W_{blau}=5\\vee 6)}{P(W_{blau}=5 \\vee 6)}\n",
    "=\\frac{\\frac{1}{6}\\cdot\\frac{1}{3}}{\\frac{1}{3}}=\\frac{1}{6}$\n",
    "\n",
    "$\\rightarrow p(W_{blau}=5 \\vee 6|W_{rot}=4)= \\frac{\\frac{1}{6}\\cdot\\frac{1}{3}}{\\frac{1}{6}}=\\frac{1}{3} $"
   ]
  },
  {
   "cell_type": "markdown",
   "metadata": {},
   "source": [
    "(g) der rote Würfel 4, der blaue 5 Punkte zeigt?"
   ]
  },
  {
   "cell_type": "markdown",
   "metadata": {},
   "source": [
    "Berechnung wie bei e) \n",
    "\n",
    "$\\rightarrow p(W_{blau}=5|W_{rot}=4)= \\frac{\\frac{1}{6}\\cdot\\frac{1}{6}}{\\frac{1}{6}}=\\frac{1}{6} $\n"
   ]
  },
  {
   "cell_type": "code",
   "execution_count": null,
   "metadata": {
    "collapsed": true
   },
   "outputs": [],
   "source": []
  }
 ],
 "metadata": {
  "kernelspec": {
   "display_name": "Python 3",
   "language": "python",
   "name": "python3"
  },
  "language_info": {
   "codemirror_mode": {
    "name": "ipython",
    "version": 3
   },
   "file_extension": ".py",
   "mimetype": "text/x-python",
   "name": "python",
   "nbconvert_exporter": "python",
   "pygments_lexer": "ipython3",
   "version": "3.6.1"
  }
 },
 "nbformat": 4,
 "nbformat_minor": 2
}
