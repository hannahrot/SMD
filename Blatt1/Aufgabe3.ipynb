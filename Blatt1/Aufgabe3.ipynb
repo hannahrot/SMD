{
 "cells": [
  {
   "cell_type": "markdown",
   "metadata": {},
   "source": [
    "# Aufgabe 3 "
   ]
  },
  {
   "cell_type": "markdown",
   "metadata": {},
   "source": [
    "\n",
    "\n",
    "\n",
    "Nutzen Sie für diese Aufgabe die Schreibweise für Wahrscheinlichkeiten aus der Vorlesung (z.B. 𝑃(𝑊rot+𝑊blau=42)=…,𝑃(𝑊rot+𝑊blau=42∣𝑊rot=4)=…). Sie würfeln mit zwei Würfeln, einem roten und einem blauen. Wie groß ist die Wahrscheinlichkeit dafür, dass\n",
    "\n",
    "(a) die Summe der Punkte 9 ergibt?"
   ]
  },
  {
   "cell_type": "markdown",
   "metadata": {},
   "source": [
    "a) Es gibt insgesamt $6^2=36$ Möglichkeiten, die Würfel zu würfeln (da diese unterscheidbar sind). Es gibt 4 Möglichkeiten eine 9 zu würfeln (3 und 6, 6 und 3, 4 und 5, 5 und 4)\n",
    "\n",
    "$\\rightarrow P(\\text{Summe=}9)=\\frac{4}{36}= \\frac{1}{9}$"
   ]
  },
  {
   "cell_type": "markdown",
   "metadata": {},
   "source": [
    "(b) die Summe der Punkte 9 oder mehr ergibt?"
   ]
  },
  {
   "cell_type": "markdown",
   "metadata": {},
   "source": [
    "b) Es gibt 10 Möglichkeiten eine Summe von 9 oder mehr zu würfeln. "
   ]
  }
 ],
 "metadata": {
  "kernelspec": {
   "display_name": "Python 3",
   "language": "python",
   "name": "python3"
  },
  "language_info": {
   "codemirror_mode": {
    "name": "ipython",
    "version": 3
   },
   "file_extension": ".py",
   "mimetype": "text/x-python",
   "name": "python",
   "nbconvert_exporter": "python",
   "pygments_lexer": "ipython3",
   "version": "3.6.1"
  }
 },
 "nbformat": 4,
 "nbformat_minor": 2
}
