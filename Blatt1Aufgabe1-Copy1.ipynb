{
 "cells": [
  {
   "cell_type": "markdown",
   "metadata": {
    "collapsed": true
   },
   "source": [
    "\n",
    "\n",
    "\n"
   ]
  },
  {
   "cell_type": "markdown",
   "metadata": {},
   "source": [
    "Aufgabe 1 Numerische Stabilität\n",
    "\n",
    "(a)𝑓(𝑥)=(𝑥3+1/3)−(𝑥3−1/3) und\n",
    "(b)𝑔(𝑥)=((3+𝑥3/3)−(3−𝑥3/3))/𝑥3\n",
    "Bestimmen Sie empirisch, für welche Bereiche von 𝑥(grob) das numerische Ergebnis \n",
    "• vom algebraischen um nicht mehr als 1% abweicht, \n",
    "• gleich Null ist. \n",
    "\n"
   ]
  },
  {
   "cell_type": "markdown",
   "metadata": {},
   "source": [
    "\n",
    "a) algebraisches Ergebnis: $f(x)= \\frac{2}{3} \\forall x$"
   ]
  },
  {
   "cell_type": "code",
   "execution_count": 2,
   "metadata": {
    "collapsed": true
   },
   "outputs": [],
   "source": [
    "import matplotlib.pyplot as plt\n",
    "import numpy as np"
   ]
  },
  {
   "cell_type": "code",
   "execution_count": 3,
   "metadata": {},
   "outputs": [
    {
     "name": "stdout",
     "output_type": "stream",
     "text": [
      "-0.12500000000000006\n"
     ]
    }
   ],
   "source": [
    "def f(x):\n",
    "    return (x**3+1/3)-(x**3-1/3)\n",
    "\n",
    "\n",
    "Abweichung =(2/3-f(100000))/(2/3) #für verschiedene Werte für x und damit f(x) muss die Abweichung unter 0.01 sein\n",
    "#ich habe einfach mal verschiedene x-Werte eingesetzt und geschaut, wann die Abweichung mehr als 1% beträgt. \n",
    "#Es gibt bestimmt ein Befehl, der einem den genauen x-Wert herausgibt, bei dem die Abweichung mehr als 1% beträgt, aber \n",
    "#den habe ich nicht gefunden :(\n",
    "\n",
    "\n",
    "print(Abweichung)"
   ]
  },
  {
   "cell_type": "markdown",
   "metadata": {},
   "source": [
    "Für $x > 10^5$ beträgt die Abweichung mehr als 1% und für $x \\rightarrow \\infty$  wird das numerische Ergebnis 0"
   ]
  },
  {
   "cell_type": "markdown",
   "metadata": {},
   "source": [
    "b) algebraisches Ergebnis: $f(x)= \\frac{2}{3} \\forall x$"
   ]
  },
  {
   "cell_type": "code",
   "execution_count": 4,
   "metadata": {},
   "outputs": [
    {
     "name": "stdout",
     "output_type": "stream",
     "text": [
      "-0.33226762955018757\n"
     ]
    }
   ],
   "source": [
    "def g(x):\n",
    "    return ((3+x**3/3)-(3-x**3/3))/x**3\n",
    "\n",
    "Abweichung =(2/3-g(0.00001))/(2/3)\n",
    "\n",
    "print(Abweichung)"
   ]
  },
  {
   "cell_type": "markdown",
   "metadata": {},
   "source": [
    "Für $x < 10^{-5}$ beträgt die Abweichung mehr als 1%\n",
    "und für $x \\rightarrow 0$  wird das numerische Ergebnis 0"
   ]
  },
  {
   "cell_type": "markdown",
   "metadata": {},
   "source": [
    "c) Stellen Sie das Ergebnis in geeigneter Form graphisch dar (d.h. z.B. logarithmische𝑥-Skala)"
   ]
  },
  {
   "cell_type": "code",
   "execution_count": null,
   "metadata": {
    "collapsed": true
   },
   "outputs": [],
   "source": []
  },
  {
   "cell_type": "code",
   "execution_count": 59,
   "metadata": {
    "scrolled": true
   },
   "outputs": [
    {
     "data": {
      "image/png": "[encoded data removed]",
      "text/plain": [
       "<matplotlib.figure.Figure at 0x1257ff02e80>"
      ]
     },
     "metadata": {},
     "output_type": "display_data"
    }
   ],
   "source": [
    "x = np.geomspace(1000, 1000000, 10000)  #logarithmische Darstellung durch logspace hat nicht funktioniert, weil dann ein Runtime-Error auftritt.\n",
    "plt.plot(x, f(x))\n",
    "plt.ylabel(r'f(x)') \n",
    "plt.xlabel(r\"x\")\n",
    "plt.show()"
   ]
  },
  {
   "cell_type": "markdown",
   "metadata": {},
   "source": [
    "Für $x \\rightarrow \\infty $ wird f(x) null. Allerdings gibt es auch schon bei kleineren x-Werten große Abweichungen zum algebraischen Wert. \n",
    "(Warum?)\n",
    "\n",
    " "
   ]
  },
  {
   "cell_type": "code",
   "execution_count": 35,
   "metadata": {},
   "outputs": [
    {
     "data": {
      "image/png": "[encoded data removed]",
      "text/plain": [
       "<matplotlib.figure.Figure at 0x1257f99d438>"
      ]
     },
     "metadata": {},
     "output_type": "display_data"
    }
   ],
   "source": [
    "x = np.geomspace(10**-6, 10**-4, 10000) \n",
    "plt.plot(x, g(x))\n",
    "plt.ylabel(r'g(x)') \n",
    "plt.xlabel(r\"x\")\n",
    "plt.show()"
   ]
  },
  {
   "cell_type": "markdown",
   "metadata": {},
   "source": [
    "Hier ist anschaulich dargestellt, dass g(x) für $x \\rightarrow 0$ null wird. Wie bei f(x) sind hier auch bei größer werdenden x-Werten Abweichungen zu sehen."
   ]
  },
  {
   "cell_type": "markdown",
   "metadata": {},
   "source": [
    " d) Wie ändert sich die Darstellung, wenn Sie die Datenpunkt mit dem Datentyp float32 bzw. float64 erstellen?"
   ]
  },
  {
   "cell_type": "code",
   "execution_count": 54,
   "metadata": {},
   "outputs": [
    {
     "data": {
      "image/png": "[encoded data removed]",
      "text/plain": [
       "<matplotlib.figure.Figure at 0x1257fc285f8>"
      ]
     },
     "metadata": {},
     "output_type": "display_data"
    }
   ],
   "source": [
    "x_32 = np.geomspace(1000, 1000000, 10000, dtype='float32')\n",
    "x_64 = np.geomspace(1000, 1000000, 10000, dtype='float64')\n",
    "\n",
    "plt.plot(x_64, f(x_64), label = 'float64')\n",
    "plt.plot(x_32, f(x_32), label = 'float32')\n",
    "\n",
    "plt.ylabel(r'f(x)') \n",
    "plt.xlabel(r\"x\")\n",
    "plt.legend(loc=\"best\")\n",
    "plt.show()"
   ]
  },
  {
   "cell_type": "code",
   "execution_count": 50,
   "metadata": {},
   "outputs": [
    {
     "data": {
      "image/png": "[encoded data removed]",
      "text/plain": [
       "<matplotlib.figure.Figure at 0x1257fc28518>"
      ]
     },
     "metadata": {},
     "output_type": "display_data"
    }
   ],
   "source": [
    "x_32 = np.geomspace(10**-6, 10**-4, 1000, dtype='float32')\n",
    "x_64 = np.geomspace(10**-6, 10**-4, 1000, dtype='float64')\n",
    "\n",
    "plt.plot(x_64, g(x_64), label = 'float64')\n",
    "plt.plot(x_32, g(x_32), label = 'float32')\n",
    "\n",
    "plt.ylabel(r'g(x)') \n",
    "plt.xlabel(r\"x\")\n",
    "plt.legend(loc=\"best\")\n",
    "plt.show()"
   ]
  },
  {
   "cell_type": "markdown",
   "metadata": {
    "collapsed": true
   },
   "source": [
    "Zu d) es ist zu sehen, dass die Abweichung von f(x) bzw. g(x) zum algebraischen Wert beim Datentyp float32 größer ist."
   ]
  },
  {
   "cell_type": "code",
   "execution_count": null,
   "metadata": {
    "collapsed": true
   },
   "outputs": [],
   "source": []
  }
 ],
 "metadata": {
  "kernelspec": {
   "display_name": "Python 3",
   "language": "python",
   "name": "python3"
  },
  "language_info": {
   "codemirror_mode": {
    "name": "ipython",
    "version": 3
   },
   "file_extension": ".py",
   "mimetype": "text/x-python",
   "name": "python",
   "nbconvert_exporter": "python",
   "pygments_lexer": "ipython3",
   "version": "3.7.5"
  }
 },
 "nbformat": 4,
 "nbformat_minor": 2
}
