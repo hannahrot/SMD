{
 "cells": [
  {
   "cell_type": "markdown",
   "metadata": {},
   "source": [
    "Aufgabe 1 Numerische Stabilität\n",
    "\n",
    "(a)𝑓(𝑥)=(𝑥3+1/3)−(𝑥3−1/3) und\n",
    "(b)𝑔(𝑥)=((3+𝑥3/3)−(3−𝑥3/3))/𝑥3\n",
    "Bestimmen Sie empirisch, für welche Bereiche von 𝑥(grob) das numerische Ergebnis \n",
    "• vom algebraischen um nicht mehr als 1% abweicht, \n",
    "• gleich Null ist. \n",
    "\n",
    "\n",
    "a) algebraische Ergebnis: $f(x)= \\frac{2}{3} \\forall x$"
   ]
  },
  {
   "cell_type": "code",
   "execution_count": null,
   "metadata": {
    "collapsed": true
   },
   "outputs": [],
   "source": []
  },
  {
   "cell_type": "code",
   "execution_count": null,
   "metadata": {
    "collapsed": true
   },
   "outputs": [],
   "source": []
  }
 ],
 "metadata": {
  "kernelspec": {
   "display_name": "Python 3",
   "language": "python",
   "name": "python3"
  },
  "language_info": {
   "codemirror_mode": {
    "name": "ipython",
    "version": 3
   },
   "file_extension": ".py",
   "mimetype": "text/x-python",
   "name": "python",
   "nbconvert_exporter": "python",
   "pygments_lexer": "ipython3",
   "version": "3.6.1"
  }
 },
 "nbformat": 4,
 "nbformat_minor": 2
}
