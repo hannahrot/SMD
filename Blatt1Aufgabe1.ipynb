{
 "cells": [
  {
   "cell_type": "markdown",
   "metadata": {},
   "source": [
    "Aufgabe 1 Numerische Stabilität\n",
    "\n",
    "(a)𝑓(𝑥)=(𝑥3+1/3)−(𝑥3−1/3) und\n",
    "(b)𝑔(𝑥)=((3+𝑥3/3)−(3−𝑥3/3))/𝑥3\n",
    "Bestimmen Sie empirisch, für welche Bereiche von 𝑥(grob) das numerische Ergebnis \n",
    "• vom algebraischen um nicht mehr als 1% abweicht, \n",
    "• gleich Null ist. \n",
    "\n",
    "\n",
    "a) algebraisches Ergebnis: $f(x)= \\frac{2}{3} \\forall x$"
   ]
  },
  {
   "cell_type": "code",
   "execution_count": 3,
   "metadata": {
    "collapsed": true
   },
   "outputs": [],
   "source": [
    "import matplotlib.pyplot as plt\n",
    "import numpy as np"
   ]
  },
  {
   "cell_type": "code",
   "execution_count": 70,
   "metadata": {},
   "outputs": [
    {
     "name": "stdout",
     "output_type": "stream",
     "text": [
      "-0.12500000000000006\n"
     ]
    }
   ],
   "source": [
    "def f(x):\n",
    "    return (x**3+1/3)-(x**3-1/3)\n",
    "\n",
    "\n",
    "Abweichung =(2/3-f(100000))/(2/3) #für verschiedene Werte für x und damit f(x) muss die Abweichung unter 0.01 sein\n",
    "#ich habe einfach mal verschiedene x-Werte eingesetzt und geschaut, wann die Abweichung mehr als 1% beträgt. \n",
    "#Es gibt bestimmt ein Befehl, der einem den x-Wert herausgibt, bei dem die Abweichung mehr als 1% beträgt, aber den habe \n",
    "#ich nicht gefunden :(((\n",
    "\n",
    "\n",
    "print(Abweichung)"
   ]
  },
  {
   "cell_type": "markdown",
   "metadata": {},
   "source": [
    "Für $x > 10^5$ beträgt die Abweichung mehr als 1% und für $x \\rightarrow \\infty$  wird das numerische Ergebnis 0"
   ]
  },
  {
   "cell_type": "markdown",
   "metadata": {},
   "source": [
    "b) algebraisches Ergebnis: $f(x)= \\frac{2}{3} \\forall x$"
   ]
  },
  {
   "cell_type": "code",
   "execution_count": 46,
   "metadata": {},
   "outputs": [
    {
     "name": "stdout",
     "output_type": "stream",
     "text": [
      "-0.33226762955018757\n"
     ]
    }
   ],
   "source": [
    "def g(x):\n",
    "    return ((3+x**3/3)-(3-x**3/3))/x**3\n",
    "\n",
    "Abweichung =(2/3-g(0.00001))/(2/3)\n",
    "\n",
    "print(Abweichung)"
   ]
  },
  {
   "cell_type": "markdown",
   "metadata": {},
   "source": [
    "Für $x < 10^{-5}$ beträgt die Abweichung mehr als 1%\n",
    "und für $x \\rightarrow 0$  wird das numerische Ergebnis 0"
   ]
  },
  {
   "cell_type": "markdown",
   "metadata": {},
   "source": [
    "c) Stellen Sie das Ergebnis in geeigneter Form graphisch dar (d.h. z.B. logarithmische𝑥-Skala)"
   ]
  },
  {
   "cell_type": "code",
   "execution_count": 76,
   "metadata": {
    "scrolled": true
   },
   "outputs": [
    {
     "data": {
      "image/png": "[encoded data removed]",
      "text/plain": [
       "<matplotlib.figure.Figure at 0x1984255fcf8>"
      ]
     },
     "metadata": {},
     "output_type": "display_data"
    }
   ],
   "source": [
    "x = np.logspace(0, 100, 1000)\n",
    "plt.plot(x, f(x))\n",
    "plt.show()"
   ]
  },
  {
   "cell_type": "markdown",
   "metadata": {},
   "source": [
    " d) Wie ändert sich die Darstellung, wenn Sie die Datenpunkt mit dem Datentyp float32 bzw. float64 erstellen?"
   ]
  },
  {
   "cell_type": "code",
   "execution_count": 80,
   "metadata": {},
   "outputs": [
    {
     "name": "stderr",
     "output_type": "stream",
     "text": [
      "C:\\Users\\Lena\\Anaconda3\\lib\\site-packages\\numpy\\core\\function_base.py:227: RuntimeWarning: overflow encountered in power\n",
      "  return _nx.power(base, y).astype(dtype)\n"
     ]
    },
    {
     "data": {
      "image/png": "[encoded data removed]",
      "text/plain": [
       "<matplotlib.figure.Figure at 0x19842117f28>"
      ]
     },
     "metadata": {},
     "output_type": "display_data"
    }
   ],
   "source": [
    "x_32 = np.logspace(0, 1000, 1000, dtype='float32')\n",
    "x_64 = np.logspace(0, 1000, 1000, dtype='float64')\n",
    "\n",
    "plt.plot(x_64, f(x))\n",
    "\n",
    "plt.show()"
   ]
  },
  {
   "cell_type": "code",
   "execution_count": null,
   "metadata": {
    "collapsed": true
   },
   "outputs": [],
   "source": []
  }
 ],
 "metadata": {
  "kernelspec": {
   "display_name": "Python 3",
   "language": "python",
   "name": "python3"
  },
  "language_info": {
   "codemirror_mode": {
    "name": "ipython",
    "version": 3
   },
   "file_extension": ".py",
   "mimetype": "text/x-python",
   "name": "python",
   "nbconvert_exporter": "python",
   "pygments_lexer": "ipython3",
   "version": "3.6.1"
  }
 },
 "nbformat": 4,
 "nbformat_minor": 2
}
