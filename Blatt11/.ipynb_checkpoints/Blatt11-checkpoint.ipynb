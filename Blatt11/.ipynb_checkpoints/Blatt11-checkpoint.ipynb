{
 "cells": [
  {
   "cell_type": "markdown",
   "metadata": {
    "collapsed": true
   },
   "source": [
    "# Aufgabe 22"
   ]
  },
  {
   "cell_type": "markdown",
   "metadata": {},
   "source": [
    "a) Was beschreibt die Lossfunktion und wofür wird sie benötigt?"
   ]
  },
  {
   "cell_type": "markdown",
   "metadata": {},
   "source": [
    "Die Verlustfunktion misst, “wie gut” das neuronale Netzwerk in Bezug auf diese Trainingsdaten und die erwarteten Antworten ist.\n",
    "\n",
    "Sie wird zur Berechnung des Fehlers zwischen realen und erhaltenen Parametern verwendet. \n",
    "\n",
    "Schlechte Klassifikation $\\rightarrow$ hohe Kosten\n",
    "\n",
    "Gute Klassifikation $\\rightarrow$ niedrige Kosten\n",
    "\n",
    "Eine gebräuchliche Kostenfunktion ist die Kreuzentropie: \n",
    "\\begin{equation}\n",
    "  H(p, q)=-\\sum_k p(k) \\log{q(k)} \\label{eq:H}\n",
    "\\end{equation}\n",
    "\n",
    "\\begin{center}\n",
    " \\tiny {($ p(x) \\: \\hat{=} \\:\\text{wahre Wahrscheinlichkeitsdichte}$, $ q(x) \\: \\hat{=} \\:\\text{geschätzte Wahrscheinlichkeitsdichte}$)}\n",
    "\\end{center}\n",
    "Liefert kleinere Werte je ähnlicher die wahre Wahrscheinlichkeitsdichte zu der geschätzten Wahrscheinlichkeitsdichte        ist"
   ]
  },
  {
   "cell_type": "markdown",
   "metadata": {},
   "source": [
    "b) Wie kann die Lossfunktion minimiert werden?"
   ]
  },
  {
   "cell_type": "markdown",
   "metadata": {},
   "source": [
    "Die Lossfunction kann minimiert werden, indem man der Richtung des Gradienten in jedem Schritt folgt"
   ]
  },
  {
   "cell_type": "markdown",
   "metadata": {},
   "source": [
    "c) Welche Funktion haben die Aktivierungsfunktionen bzw. welches Problem wird durch diese ge-löst? Nennen Sie drei gängige Aktivierungsfunktionen."
   ]
  },
  {
   "cell_type": "markdown",
   "metadata": {},
   "source": [
    "Die Aktivierungsfunktion stellt den Zusammenhang zwischen dem Netzinput und dem Aktivitätslevel eines Neurons dar.\n",
    "\n",
    "\\begin{itemize}\n",
    "  \\item sigmoid-Funktion:$\\sigma(x)=\\frac{1}{1+\\exp{-x}}$\n",
    "  \\item Tangens hyperbolicus :$\\tanh(x)$\n",
    "  \\item Rectified Linear Unit: $max(0, x)$\n",
    "\\end{itemize}\n",
    "\n",
    "\n",
    "\n",
    "Die Aktivierungsfunktion ist von großer Bedeutung, da sie dabei hilft, das wirklich komplizierte und nichtlineare komplexe funktionale Mapping zwischen den Eingangsdaten und den abhängigen Ergebnissen zu lernen und zu verstehen."
   ]
  },
  {
   "cell_type": "markdown",
   "metadata": {},
   "source": [
    "d) Was ist ein Neuron?"
   ]
  },
  {
   "cell_type": "markdown",
   "metadata": {},
   "source": [
    "Ein Neuron bildet die Basis eines neuronalen Netzwerkes und ist einem Neuron in der Biologie nachempfunden. Sie können Informationen von außen oder von anderen Neuronen aufnehmen und modifiziert an andere Neuronen weiterleiten oder als Endergebnis ausgeben Mit den zugewiesenden Eingaben $x_i$ und Gewichte $W_i$ wird die\n",
    "Ausgabefunktion\n",
    "\\begin{equation}\n",
    "  \\text{net}_j=\\sum_{i=0}^{n} x_i w_{ij}\n",
    "\\end{equation}\n",
    "definiert.\n",
    "Die Aktivierung dagegen ist definiert durch\n",
    "\\begin{equation}\n",
    "  o_j=\\phi(\\text{net}_j-\\theta_j)\n",
    "\\end{equation}\n",
    "\\begin{center}\n",
    " \\tiny {($ \\phi \\: \\hat{=} \\:\\text{Aktivierungsfunktion}$, $ \\theta \\: \\hat{=} \\:\\text{'Schellenwert' zur Verschiebung der Gewichtung}$)}\n",
    "\\end{center}"
   ]
  },
  {
   "cell_type": "markdown",
   "metadata": {},
   "source": [
    "e) Nennen Sie drei Anwendungsbeispiele für Neuronale Netze und beschreiben Sie kurz warum siefür diese Beispiele besonders geeignet sind."
   ]
  },
  {
   "cell_type": "markdown",
   "metadata": {},
   "source": [
    "Anwendungsbeispiele sind zum Beispiel:\n",
    "\\begin{enumerate}\n",
    "  \\item Gesichts/Bilderkennung\n",
    "  \\item Texterkennung\n",
    "  \\item Spracherkennung\n",
    "\\end{enumerate}\n",
    "Diese Beispiele eignen sich besonders, da bei denen nur geringes systematisches Lösungswissen vorliegt und eine große Menge von teils unpräzisen Eingabeinformationen zu einem konkreten Ergebnis verarbeitet werden müssen. "
   ]
  },
  {
   "cell_type": "code",
   "execution_count": null,
   "metadata": {
    "collapsed": true
   },
   "outputs": [],
   "source": []
  }
 ],
 "metadata": {
  "kernelspec": {
   "display_name": "Python 3",
   "language": "python",
   "name": "python3"
  },
  "language_info": {
   "codemirror_mode": {
    "name": "ipython",
    "version": 3
   },
   "file_extension": ".py",
   "mimetype": "text/x-python",
   "name": "python",
   "nbconvert_exporter": "python",
   "pygments_lexer": "ipython3",
   "version": "3.6.1"
  }
 },
 "nbformat": 4,
 "nbformat_minor": 2
}
