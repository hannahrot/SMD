{
 "cells": [
  {
   "cell_type": "markdown",
   "metadata": {},
   "source": [
    "# Aufgabe 14"
   ]
  },
  {
   "cell_type": "markdown",
   "metadata": {},
   "source": [
    "(a) Beschreiben Sie kurz die Funktionsweise der Hauptkomponentenanalyse. Geben Sie in Worten\n",
    "und in der richtigen Reihenfolge die notwendigen Berechnungen zur Durchführung der Haupt-\n",
    "komponentenanalyse an."
   ]
  },
  {
   "cell_type": "markdown",
   "metadata": {},
   "source": [
    "Gegeben ist eine Matrix der Dimension d. Diese soll auf k Dimensionen reduziert werden. Dazu wird die Matrix in die Basis transformiert, bei der die Varianz entlang der Basisvektoren maximiert wird. Dazu geht man wie folgt vor:\n",
    "\n",
    "1. Zentriere die Daten auf ihren Mittelwert. Dazu werden von allen Datenpunkten der Mittelwert der Eigenschaft (also des Arrays) abgezogen.\n",
    "\n",
    "2. Berechne die Kovarianzmatrix aus der Datenmatrix X.\n",
    "\n",
    "3. Berechne Eigenwerte und Eigenvektoren der Kovarianzmatrix.\n",
    "\n",
    "4. Wähle die k größten Eigenwerte und zugehörigen Eigenvektoren aus.\n",
    "\n",
    "5. Bilde eine d x k Matrix W mit den k Eigenvektoren als Spalten.\n",
    "\n",
    "6. Wende W auf jede Zeile aus x aus X an $x' = W^T \\cdot x^T$."
   ]
  },
  {
   "cell_type": "markdown",
   "metadata": {},
   "source": [
    "(b) Berechnen Sie die einzelnen Schritte per Hand auf dem Datensatz (in der Vorlesung wurde per Hand als mit numpy aber ohne spezielle Funktion, die die PCA durchführt definiert):"
   ]
  },
  {
   "cell_type": "code",
   "execution_count": 20,
   "metadata": {
    "collapsed": true
   },
   "outputs": [],
   "source": [
    "import numpy as np"
   ]
  },
  {
   "cell_type": "code",
   "execution_count": 21,
   "metadata": {
    "collapsed": true
   },
   "outputs": [],
   "source": [
    "x1 = np.array([1,3,1,2,3,2])\n",
    "x2 = np.array([1,0,3,0,1,1])\n",
    "\n",
    "x1 = x1 - np.mean(x1)\n",
    "x2 = x2 - np.mean(x2)\n",
    "#print(x1)\n",
    "#print(x2)\n",
    "\n",
    "X = np.array([x1,x2])\n",
    "#print(X.shape)\n",
    "\n",
    "c = np.cov(X)\n",
    "#print(c)\n",
    "\n",
    "l, W = np.linalg.eigh(c)\n",
    "#print(l , W)\n",
    "\n",
    "##Reihenfolge umkehren. Größte Eigenwerte zuerst.\n",
    "l = l[::-1]\n",
    "W = W[:, ::-1]\n",
    "\n",
    "\n",
    "X_prime = X.T @ W\n",
    "#print(X_prime)"
   ]
  },
  {
   "cell_type": "markdown",
   "metadata": {},
   "source": [
    "1. Die zentrierten Daten ergeben sich zu:\n",
    "\n",
    "$x_1 = [-1, 1, -1, 0, 1, 0] \\\\\n",
    "x_2= [0, -1, 2, -1, 0, 0]$\n",
    "\n",
    "2. Die Kovarianzmatrix:\n",
    "\n",
    "$\\begin{pmatrix}\n",
    "0,8 & -0,6 \\\\\n",
    "-0,6 & 1,2 \\\\\n",
    "\\end{pmatrix}$\n",
    "\n",
    "3. Die Eigenwerte sind 1,63 und 0.37. Die dazugehörigen Eigenvektoren sind:\n",
    "$v_1 = (-0,58\\,\\, 0,81)^T, v_2 = (-0.81\\,\\, -0.58)^T$.\n",
    "\n",
    "4. Es wurde nicht angegeben auf wie viele Dimensionen reduziert werden soll. Daher wird mit allen weitergerechnet. Würde das Problem auf eine Dimension reduziert werden, würde nur mit $v_1$ und dem Eingenwert 1,63 weitergemacht.\n",
    "\n",
    "5. Die Eienmatrix ergibt sich aus den Eigenvektoren.\n",
    "\n",
    "6. Die neue Matris X' ergibt sich zu:\n",
    "\n",
    "$\\begin{pmatrix}\n",
    "0,58 & 0,81 \\\\\n",
    "-140 & -0,23 \\\\\n",
    "2,21 & 0,36 \\\\\n",
    "-0,81 & 0,58 \\\\\n",
    "-0,58 & -0.81 \\\\\n",
    "0 & 0 \\\\\n",
    "\\end{pmatrix}$"
   ]
  },
  {
   "cell_type": "markdown",
   "metadata": {},
   "source": [
    "\n",
    "# Aufgabe 15"
   ]
  },
  {
   "cell_type": "markdown",
   "metadata": {},
   "source": [
    "a) Erzeugen Sie mit der Funktion sklearn.datasets.make_blobs einen Datensatz. Nutzen sie dabei folgende Einstellungen: n_samples=1000, centers=2, n_features=4, random_state=0. Stellen Sie nun zwei beliebige Dimensonen des Datensatzes in einem Scatterplot dar"
   ]
  },
  {
   "cell_type": "code",
   "execution_count": 22,
   "metadata": {
    "collapsed": true
   },
   "outputs": [],
   "source": [
    "import matplotlib.pyplot as plt\n",
    "import numpy as np\n",
    "import pandas as pd\n",
    "from scipy.optimize import curve_fit\n",
    "\n",
    "from scipy.stats import stats\n",
    "from sklearn.datasets.samples_generator import make_blobs\n",
    "from sklearn.decomposition import PCA\n",
    "from scipy import linalg"
   ]
  },
  {
   "cell_type": "code",
   "execution_count": 23,
   "metadata": {
    "collapsed": true
   },
   "outputs": [],
   "source": [
    "import scipy"
   ]
  },
  {
   "cell_type": "code",
   "execution_count": 24,
   "metadata": {
    "scrolled": true
   },
   "outputs": [
    {
     "data": {
      "image/png": "[encoded data removed]",
      "text/plain": [
       "<Figure size 432x288 with 1 Axes>"
      ]
     },
     "metadata": {},
     "output_type": "display_data"
    }
   ],
   "source": [
    "X, y = make_blobs(n_samples=100, n_features=4, centers=2, random_state=0)\n",
    "plt.scatter(X[:,0], X[:,1])\n",
    "plt.xlabel('1. Dimension')\n",
    "plt.ylabel('2. Dimension')\n",
    "plt.show()"
   ]
  },
  {
   "cell_type": "markdown",
   "metadata": {},
   "source": [
    "b) Wenden Sie nun die Hauptkomponentenanalyse auf den in a)erzeugten Datensatz an. Nutzen Sie dazu das Paket sklearn.decomposition.PCA. Wie lauten die Eigenwerte der Kovarianzmatrix? Wie interpretieren Sie die Eigenwerte?"
   ]
  },
  {
   "cell_type": "code",
   "execution_count": 25,
   "metadata": {},
   "outputs": [
    {
     "name": "stdout",
     "output_type": "stream",
     "text": [
      "[ 0.6553757   1.02981203  1.17151447 18.0132498 ]\n",
      "[[ 2.89889424  1.02389031  2.33930355 -4.48796768]\n",
      " [ 1.02389031  1.63792291  1.60557992 -2.83450403]\n",
      " [ 2.33930355  1.60557992  3.73633957 -5.8763972 ]\n",
      " [-4.48796768 -2.83450403 -5.8763972  12.59679529]]\n"
     ]
    }
   ],
   "source": [
    "#Schritt 1:Zentriere die Daten auf ihren Mittelwert\n",
    "mue = np.array([np.mean(X[:,0]), np.mean(X[:,1]),\n",
    "                np.mean(X[:,2]), np.mean(X[:,3])])\n",
    "X_zentriert = X-mue\n",
    "\n",
    "#Schritt 2: Hauptkomponentenanalyse\n",
    "\n",
    "from sklearn.decomposition import PCA\n",
    "\n",
    "pca = PCA(n_components=4)\n",
    "X_pca = pca.fit_transform(X_zentriert)\n",
    "\n",
    "Cov_Matrix = np.cov(X_zentriert, rowvar=False)\n",
    "\n",
    "Eigenwerte, Eigenvektoren = np.linalg.eigh(Cov_Matrix)\n",
    "\n",
    "print(Eigenwerte)\n",
    "print(Cov_Matrix)"
   ]
  },
  {
   "cell_type": "markdown",
   "metadata": {
    "collapsed": true
   },
   "source": [
    "Die Kovarianzmatrix:\n",
    "\n",
    "\n",
    "\\begin{align*}\n",
    "  \\symup{Cov} = \\begin{pmatrix}\n",
    "\n",
    "                 2.90 &  1.02 &  2.34 & -4.49  \\\\\n",
    "                 1.02 &  1.64 &  1.61 & -2.83 \\\\\n",
    "                  2.34 &  1.61 &  3.74 & -5.88 \\\\\n",
    "                -4.49 & -2.83 & -5.88 & 12.60 \\\\\n",
    "\n",
    "  \\end{pmatrix}\n",
    "\\end{align*}\n",
    "\n",
    "\n",
    "Die Eigenwerte der Kovarianzmatrix:\n",
    "\n",
    "\\begin{align*}\n",
    "  \\lambda_1 = 0.66 \\\\\n",
    "  \\lambda_2 = 1.03 \\\\\n",
    "  \\lambda_3 = 1.17 \\\\\n",
    "  \\lambda_4 = 18.01 \\\\\n",
    "\\end{align*}\n",
    "\n",
    "Interpretation der Eigenwerte: $\\lambda_4$ ist die Hauptkomponente mit dem größten Eigenwert und ist deshalb für eine Reduktion der Daten am entscheidensten. Die anderen Eigenwerte sind deutlich kleiner."
   ]
  },
  {
   "cell_type": "markdown",
   "metadata": {},
   "source": [
    "(c) Histrogrammieren Sie nun 𝑥′in jeder Dimension und stellen sie 𝑥'1 und 𝑥′2 in einem Scatterplot dar."
   ]
  },
  {
   "cell_type": "code",
   "execution_count": 26,
   "metadata": {},
   "outputs": [
    {
     "data": {
      "image/png": "[encoded data removed]",
      "text/plain": [
       "<Figure size 432x288 with 1 Axes>"
      ]
     },
     "metadata": {},
     "output_type": "display_data"
    }
   ],
   "source": [
    "\n",
    "plt.scatter(X_pca[:,0],X_pca[:,1], alpha=0.7)\n",
    "plt.xlabel('1. Dimension')\n",
    "plt.ylabel('2. Dimension')\n",
    "plt.savefig('Scatterplot_pca.pdf')\n",
    "plt.show()"
   ]
  },
  {
   "cell_type": "code",
   "execution_count": 27,
   "metadata": {},
   "outputs": [
    {
     "data": {
      "image/png": "[encoded data removed]",
      "text/plain": [
       "<Figure size 432x288 with 4 Axes>"
      ]
     },
     "metadata": {},
     "output_type": "display_data"
    }
   ],
   "source": [
    "plt.subplot(2, 2, 1)\n",
    "plt.hist(X_pca[:,0],color='r', density=True, bins=30, label='1. Dimension', alpha=0.7)\n",
    "plt.ylabel('Relative Häufigkeit')\n",
    "plt.xlabel('1. Dimension')\n",
    "plt.tight_layout()\n",
    "plt.subplot(2, 2, 2)\n",
    "plt.hist(X_pca[:,1],color='y', density=True, bins=30, label='2. Dimension', alpha=0.7)\n",
    "plt.ylabel('Relative Häufigkeit')\n",
    "plt.xlabel('2. Dimension')\n",
    "plt.tight_layout()\n",
    "plt.subplot(2, 2, 3)\n",
    "plt.hist(X_pca[:,2],color='b', density=True, bins=30, label='3. Dimension', alpha=0.7)\n",
    "plt.ylabel('Relative Häufigkeit')\n",
    "plt.xlabel('3. Dimension')\n",
    "plt.tight_layout()\n",
    "plt.subplot(2, 2, 4)\n",
    "plt.hist(X_pca[:,3],color='g', density=True, bins=30, label='4. Dimension', alpha=0.7)\n",
    "plt.ylabel('Relative Häufigkeit')\n",
    "plt.xlabel('4. Dimension')\n",
    "plt.savefig('Histogramm.pdf')\n",
    "plt.show()"
   ]
  },
  {
   "cell_type": "code",
   "execution_count": null,
   "metadata": {
    "collapsed": true
   },
   "outputs": [],
   "source": []
  }
 ],
 "metadata": {
  "kernelspec": {
   "display_name": "Python 3",
   "language": "python",
   "name": "python3"
  },
  "language_info": {
   "codemirror_mode": {
    "name": "ipython",
    "version": 3
   },
   "file_extension": ".py",
   "mimetype": "text/x-python",
   "name": "python",
   "nbconvert_exporter": "python",
   "pygments_lexer": "ipython3",
   "version": "3.6.1"
  }
 },
 "nbformat": 4,
 "nbformat_minor": 2
}
