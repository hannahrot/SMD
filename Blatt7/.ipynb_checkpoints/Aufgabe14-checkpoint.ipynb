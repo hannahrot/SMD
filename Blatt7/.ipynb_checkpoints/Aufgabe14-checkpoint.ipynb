{
 "cells": [
  {
   "cell_type": "markdown",
   "metadata": {},
   "source": [
    "## Aufgabe 14 Hauptkomponentenanalyse per Hand (PCA)"
   ]
  },
  {
   "cell_type": "markdown",
   "metadata": {},
   "source": [
    "(a) Beschreiben Sie kurz die Funktionsweise der Hauptkomponentenanalyse. Geben Sie in Worten\n",
    "und in der richtigen Reihenfolge die notwendigen Berechnungen zur Durchführung der Haupt-\n",
    "komponentenanalyse an."
   ]
  },
  {
   "cell_type": "markdown",
   "metadata": {},
   "source": [
    "Gegeben ist eine Matrix der Dimension d. Diese soll auf k Dimensionen reduziert werden. Dazu wird die Matrix in die Basis transformiert, bei der die Varianz entlang der Basisvektoren maximiert wird. Dazu geht man wie folgt vor:\n",
    "\n",
    "1. Zentriere die Daten auf ihren Mittelwert. Dazu werden von allen Datenpunkten der Mittelwert der Eigenschaft (also des Arrays) abgezogen.\n",
    "\n",
    "2. Berechne die Kovarianzmatrix aus der Datenmatrix X.\n",
    "\n",
    "3. Berechne Eigenwerte und Eigenvektoren der Kovarianzmatrix.\n",
    "\n",
    "4. Wähle die k größten Eigenwerte und zugehörigen Eigenvektoren aus.\n",
    "\n",
    "5. Bilde eine d×k Matrix W mit den k Eigenvektoren als Spalten.\n",
    "\n",
    "6. Wende W auf jede Zeile aus x aus X an x′=W.T⋅x.T."
   ]
  },
  {
   "cell_type": "markdown",
   "metadata": {},
   "source": [
    "(b) Berechnen Sie die einzelnen Schritte per Hand auf dem Datensatz (in der Vorlesung wurde per Hand als mit numpy aber ohne spezielle Funktion, die die PCA durchführt definiert):"
   ]
  },
  {
   "cell_type": "code",
   "execution_count": 1,
   "metadata": {},
   "outputs": [],
   "source": [
    "import numpy as np"
   ]
  },
  {
   "cell_type": "code",
   "execution_count": 5,
   "metadata": {},
   "outputs": [],
   "source": [
    "x1 = np.array([1,3,1,2,3,2])\n",
    "x2 = np.array([1,0,3,0,1,1])\n",
    "\n",
    "x1 = x1 - np.mean(x1)\n",
    "x2 = x2 - np.mean(x2)\n",
    "#print(x1)\n",
    "#print(x2)\n",
    "\n",
    "X = np.array([x1,x2])\n",
    "#print(X.shape)\n",
    "\n",
    "c = np.cov(X)\n",
    "#print(c)\n",
    "\n",
    "l, W = np.linalg.eigh(c)\n",
    "#print(l , W)\n",
    "\n",
    "##Reihenfolge umkehren. Größte Eigenwerte zuerst.\n",
    "l = l[::-1]\n",
    "W = W[:, ::-1]\n",
    "\n",
    "\n",
    "X_prime = X.T @ W\n",
    "#print(X_prime)"
   ]
  },
  {
   "cell_type": "markdown",
   "metadata": {},
   "source": [
    "1. Die zentrierten Daten ergeben sich zu:\n",
    "\n",
    "$x_1 = [-1, 1, -1, 0, 1, 0] \\\\\n",
    "x_2= [0, -1, 2, -1, 0, 0]$\n",
    "\n",
    "2. Die Kovarianzmatrix:\n",
    "\n",
    "$\\begin{matrix}\n",
    "0,8 & -0,6 \\\\\n",
    "-0,6 & 1,2 \\\\\n",
    "\\end{matrix}$\n",
    "\n",
    "3. Die Eigenwerte sind 1,63 und 0.37. Die dazugehörigen Eigenvektoren sind:\n",
    "$v_1 = (-0,58\\,\\, 0,81)^T, v_2 = (-0.81\\,\\, -0.58)^T$.\n",
    "\n",
    "4. Es wurde nicht angegeben auf wie viele Dimensionen reduziert werden soll. Daher wird mit allen weitergerechnet. Würde das Problem auf eine Dimension reduziert werden, würde nur mit $v_1$ und dem Eingenwert 1,63 weitergemacht.\n",
    "\n",
    "5. Die Eienmatrix ergibt sich aus den Eigenvektoren.\n",
    "\n",
    "6. Die neue Matris X' ergibt sich zu:\n",
    "\n",
    "$\\begin{matrix}\n",
    "0,58 & 0,81 \\\\\n",
    "-140 & -0,23 \\\\\n",
    "2,21 & 0,36 \\\\\n",
    "-0,81 & 0,58 \\\\\n",
    "-0,58 & -0.81 \\\\\n",
    "0 & 0 \\\\\n",
    "\\end{matrix}$"
   ]
  },
  {
   "cell_type": "code",
   "execution_count": null,
   "metadata": {},
   "outputs": [],
   "source": []
  },
  {
   "cell_type": "code",
   "execution_count": null,
   "metadata": {},
   "outputs": [],
   "source": []
  }
 ],
 "metadata": {
  "kernelspec": {
   "display_name": "Python 3",
   "language": "python",
   "name": "python3"
  },
  "language_info": {
   "codemirror_mode": {
    "name": "ipython",
    "version": 3
   },
   "file_extension": ".py",
   "mimetype": "text/x-python",
   "name": "python",
   "nbconvert_exporter": "python",
   "pygments_lexer": "ipython3",
   "version": "3.7.7"
  }
 },
 "nbformat": 4,
 "nbformat_minor": 2
}
