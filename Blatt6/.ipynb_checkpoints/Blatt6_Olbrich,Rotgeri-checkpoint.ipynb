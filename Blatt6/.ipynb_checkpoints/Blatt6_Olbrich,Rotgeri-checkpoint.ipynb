{
 "cells": [
  {
   "cell_type": "markdown",
   "metadata": {},
   "source": [
    "# Aufgabe 11"
   ]
  },
  {
   "cell_type": "markdown",
   "metadata": {},
   "source": [
    "Führen Sie eine lineare Diskriminazanalyse nach Fisher per Hand durch"
   ]
  },
  {
   "cell_type": "code",
   "execution_count": 84,
   "metadata": {},
   "outputs": [],
   "source": [
    "import numpy as np\n",
    "import pandas as pd\n",
    "import matplotlib.pyplot as plt\n",
    "\n"
   ]
  },
  {
   "cell_type": "markdown",
   "metadata": {},
   "source": [
    "\\begin{align*}\n",
    "\\text{Population 0} &: (1;1) (2;1) (1,5; 2) (2;2) (2;3) (3;3) \\\\\n",
    "\\text{Population 1} &: (1.5; 1) (2.5; 1) (3.5; 1) (2.5; 2) (3.5; 2) (4.5; 2)\n",
    "\\\\\n",
    "\\end{align*}"
   ]
  },
  {
   "cell_type": "markdown",
   "metadata": {},
   "source": [
    "a)  Berechnen Sie die Mittelwerte 𝜇⃗ und Streumatrizen 𝑆𝑖, sowie die kombinierte Streumatrix 𝑆𝑖𝑗."
   ]
  },
  {
   "cell_type": "markdown",
   "metadata": {},
   "source": [
    " Mittelwerte: \n",
    "$\\vec{\\mu}=\n",
    "\\begin{pmatrix}\n",
    "\\bar{x} \\\\\n",
    "\\bar{y} \n",
    "\\end{pmatrix}=\n",
    "\\frac{1}{N}\\begin{pmatrix}\n",
    "\\sum_{i=1}^{N} x_{i} \\\\\n",
    "\\sum_{i=1}^{N} y_{i}\n",
    "\\end{pmatrix}\n",
    "\\rightarrow \\vec{\\mu_0}=\n",
    "\\begin{pmatrix}\n",
    "\\frac{23}{12} \\\\\n",
    "2\n",
    "\\end{pmatrix},\n",
    "\\vec{\\mu_1}=\n",
    "\\begin{pmatrix}\n",
    "3 \\\\\n",
    "\\frac{3}{2}\n",
    "\\end{pmatrix}$\n",
    "\n"
   ]
  },
  {
   "cell_type": "markdown",
   "metadata": {},
   "source": [
    "Streumatrizen: $S_i = \\sum_{j=1}^{N_i} (\\vec{x}_{j}-\\vec{\\mu}_{j})(\\vec{x}_{j}-\\vec{\\mu}_{j})^T$"
   ]
  },
  {
   "cell_type": "markdown",
   "metadata": {},
   "source": [
    "\\begin{align*} \n",
    "S_0 &=\n",
    "\\begin{pmatrix}\n",
    "-\\frac{11}{12}\\\\\n",
    "-1\n",
    "\\end{pmatrix} \\begin{pmatrix}\n",
    "-\\frac{11}{12}\\\\\n",
    "-1\n",
    "\\end{pmatrix}^T\n",
    "+\\begin{pmatrix}\n",
    "\\frac{1}{12}\\\\\n",
    "-1\n",
    "\\end{pmatrix}\\begin{pmatrix}\n",
    "\\frac{1}{12}\\\\\n",
    "-1\n",
    "\\end{pmatrix}^T +\n",
    "\\begin{pmatrix}\n",
    "-\\frac{5}{12}\\\\\n",
    "0\n",
    "\\end{pmatrix}\n",
    "\\begin{pmatrix}\n",
    "-\\frac{5}{12}\\\\\n",
    "0\n",
    "\\end{pmatrix}^T +\n",
    "\\begin{pmatrix}\n",
    "\\frac{1}{12}\\\\\n",
    "0\n",
    "\\end{pmatrix}\\begin{pmatrix}\n",
    "\\frac{1}{12}\\\\\n",
    "0\n",
    "\\end{pmatrix}^T +\n",
    "\\begin{pmatrix}\n",
    "\\frac{1}{12}\\\\\n",
    "1\n",
    "\\end{pmatrix}\n",
    "\\begin{pmatrix}\n",
    "\\frac{1}{12}\\\\\n",
    "1\n",
    "\\end{pmatrix}^T +\n",
    "\\begin{pmatrix}\n",
    "\\frac{13}{12}\\\\\n",
    "1\n",
    "\\end{pmatrix}\\begin{pmatrix}\n",
    "\\frac{13}{12}\\\\\n",
    "1\n",
    "\\end{pmatrix}^\\top \\\\\n",
    "&=\\begin{pmatrix}\n",
    "\\frac{121}{144} & \\frac{11}{12} \\\\\n",
    "\\frac{11}{12} & 1\n",
    "\\end{pmatrix} +\n",
    "\\begin{pmatrix}\n",
    "\\frac{1}{144} & \\frac{-1}{12} \\\\\n",
    "-\\frac{1}{12} & 1\n",
    "\\end{pmatrix}+\n",
    "\\begin{pmatrix}\n",
    "\\frac{25}{144} & 0 \\\\\n",
    "0 & 0\n",
    "\\end{pmatrix} +\n",
    "\\begin{pmatrix}\n",
    "\\frac{1}{144} & 0 \\\\\n",
    "0 & 0\n",
    "\\end{pmatrix}+\n",
    "\\begin{pmatrix}\n",
    "\\frac{1}{144} & \\frac{1}{12} \\\\\n",
    "\\frac{1}{12} & 1\n",
    "\\end{pmatrix}+\n",
    "\\begin{pmatrix}\n",
    "\\frac{169}{144} & \\frac{13}{12} \\\\\n",
    "\\frac{13}{12} & 1\n",
    "\\end{pmatrix} \\\\\n",
    "&=\n",
    "\\begin{pmatrix}\n",
    "53/24& 2 \\\\\n",
    "2 & 4\n",
    "\\end{pmatrix} \\\\\n",
    "S_1 &= \n",
    "\\begin{pmatrix}\n",
    "\\frac{9}{4} & \\frac{3}{4} \\\\\n",
    "\\frac{3}{4} & \\frac{1}{4}\n",
    "\\end{pmatrix} +\n",
    "\\begin{pmatrix}\n",
    "\\frac{1}{4} & \\frac{1}{4} \\\\\n",
    "\\frac{1}{4} & \\frac{1}{4}\n",
    "\\end{pmatrix}+\n",
    "\\begin{pmatrix}\n",
    "\\frac{1}{4} & -\\frac{1}{4} \\\\\n",
    "-\\frac{1}{4} & \\frac{1}{4}\n",
    "\\end{pmatrix}+\n",
    "\\begin{pmatrix}\n",
    "\\frac{1}{4} & -\\frac{1}{4} \\\\\n",
    "-\\frac{1}{4} & \\frac{1}{4}\n",
    "\\end{pmatrix}+\n",
    "\\begin{pmatrix}\n",
    "\\frac{1}{4} & \\frac{1}{4} \\\\\n",
    "\\frac{1}{4} & \\frac{1}{4}\n",
    "\\end{pmatrix}+\n",
    "\\begin{pmatrix}\n",
    "\\frac{9}{4} & \\frac{3}{4} \\\\\n",
    "\\frac{3}{4} & \\frac{1}{4}\n",
    "\\end{pmatrix} \\\\ \n",
    "&=\n",
    "\\begin{pmatrix}\n",
    "11/2 & 3/2 \\\\\n",
    "3/2 & 13/2\n",
    "\\end{pmatrix}\n",
    "\\end{align*}\n",
    "\n",
    "\n",
    "\n",
    "\n"
   ]
  },
  {
   "cell_type": "markdown",
   "metadata": {},
   "source": []
  },
  {
   "cell_type": "markdown",
   "metadata": {},
   "source": [
    "Gesamtstreuung:\n",
    "$S_W =\n",
    "\\sum_i^{N} S_i = S_0 + S_1\n",
    "\\rightarrow S_W = \\begin{pmatrix}\n",
    "185/24 & 7/2 \\\\\n",
    "7/2 & 11/2\n",
    "\\end{pmatrix}$"
   ]
  },
  {
   "cell_type": "markdown",
   "metadata": {},
   "source": [
    "b)  Wie lautet $\\vec{\\lambda}$?"
   ]
  },
  {
   "cell_type": "markdown",
   "metadata": {},
   "source": [
    "\\begin{align*}\n",
    "&\\vec{\\lambda} =\n",
    "S_W^{-1}(\\vec{\\mu}_0-\\vec{\\mu}_1) \\\\\n",
    "&\\text{Mit} \\, S_W^{-1 } = \\frac{1}{\\text{Det} S_W} \\begin{pmatrix}\n",
    "\\frac{11}{2} & -\\frac{7}{2} \\\\\n",
    "-\\frac{7}{2} & \\frac{185}{24}\n",
    "\\end{pmatrix}= \\frac{48}{1447}\\begin{pmatrix}\n",
    "\\frac{11}{2} & -\\frac{7}{2} \\\\\n",
    "-\\frac{7}{2} & \\frac{185}{24}\n",
    "\\end{pmatrix} =\\begin{pmatrix}\n",
    "0,182 & -0,116 \\\\\n",
    "-0,116 & 0,256\n",
    "\\end{pmatrix} \\\\\n",
    "\\rightarrow \\vec{\\lambda} &= \\begin{pmatrix}\n",
    "-0,256  \\\\\n",
    "0,254\n",
    "\\end{pmatrix} \\\\\n",
    "\\rightarrow \\vec{\\lambda} &= \\lambda \\vec{e}_{\\lambda} \n",
    "= 0,360\n",
    "\\begin{pmatrix}\n",
    "-0,710  \\\\\n",
    "0,704\n",
    "\\end{pmatrix}\n",
    "\\end{align*}"
   ]
  },
  {
   "cell_type": "markdown",
   "metadata": {},
   "source": [
    "c) Zeichnen Sie die Punkte der beiden Populationen in einen Graphen ein, zusammen mit der Projektionsgeraden"
   ]
  },
  {
   "cell_type": "code",
   "execution_count": 85,
   "metadata": {},
   "outputs": [
    {
     "data": {
      "image/png": "[encoded data removed]",
      "text/plain": [
       "<Figure size 432x288 with 1 Axes>"
      ]
     },
     "metadata": {},
     "output_type": "display_data"
    }
   ],
   "source": [
    "import matplotlib.pyplot as plt\n",
    "import numpy as np\n",
    "import pandas as pd\n",
    "from scipy.optimize import curve_fit\n",
    "#import uncertainties.unumpy as unp\n",
    "from uncertainties import ufloat\n",
    "from scipy.stats import stats\n",
    "from scipy import linalg\n",
    "\n",
    "\n",
    "\n",
    "P0x = np.array([1,2,1.5,2,2,3])\n",
    "P0y = np.array([1,1,2,2,3,3])\n",
    "P1x = np.array([1.5, 2.5, 3.5, 2.5, 3.5, 4.5])\n",
    "P1y = np.array([1,1,1,2,2,2])\n",
    "\n",
    "m=0.254/(-0.256)\n",
    "def f(x):\n",
    "  return m*x+4\n",
    "\n",
    "\n",
    "x = np.linspace(0.9, 3.6,100)\n",
    "\n",
    "\n",
    "\n",
    "\n",
    "plt.plot(P0x, P0y, 'bx', label=r'$P_0$')\n",
    "plt.plot(P1x, P1y, 'rx', label=r'$P_1$')\n",
    "plt.plot(x, f(x), 'k-', label=r'Projektionsgerade $\\lambda \\vec{e}_\\lambda$')\n",
    "\n",
    "\n",
    "\n",
    "plt.legend()\n",
    "plt.tight_layout()\n",
    "plt.show()\n",
    "\n",
    "plt.savefig('c.pdf')\n",
    "\n",
    "\n",
    "\n",
    "plt.clf()\n"
   ]
  },
  {
   "cell_type": "markdown",
   "metadata": {},
   "source": [
    " (d) Projezieren Sie die einzelnen Punkte auf diese Gerade. "
   ]
  },
  {
   "cell_type": "markdown",
   "metadata": {},
   "source": [
    "Projektion= $\\vec{\\lambda}^T \\cdot x$\n",
    "\\begin{align}\n",
    "\n",
    "\\text{Population 0} &: -0.006; -0.716; 0.343; -0.012; 0.693; -0.017 \\\\\n",
    "\\text{Population 1}&: -0.361; -1.071; -1.781; -0.367; -1.076; -1.786\n",
    "\\end{align}"
   ]
  },
  {
   "cell_type": "markdown",
   "metadata": {},
   "source": [
    "(e) Wählen Sie einen geeigneten Parameter 𝜆cut und berechnen Sie die dazugehörige Effizienz und Reinheit. Warum haben Sie diesen Parameter gewählt?"
   ]
  },
  {
   "cell_type": "markdown",
   "metadata": {},
   "source": [
    "$\\lambda_{cut}= -0.360$ sinnvoll, da hierbei 5/6 von Population 0 und 6/6 von Population 1 richtig zugeordnet werden.\n",
    "\\rightarrow\n",
    "\\begin{align}\n",
    "t_p &= 6 \\\\\n",
    "t_n &=5\\\\\n",
    "f_p &= 1\\\\\n",
    "f_n &=0 \\\\\n",
    "\\rightarrow \\text{Reinheit} =\\frac{\\text{tp}}{\\text{tp + fp}}= \\frac{6}{7} \\\\\n",
    "Effizienz &= \\frac{\\text{tp}}{\\text{tp + fn}}= \\frac{6}{6}=1\n",
    "\\end{align}"
   ]
  },
  {
   "cell_type": "markdown",
   "metadata": {},
   "source": [
    "# Aufgabe 12"
   ]
  },
  {
   "cell_type": "code",
   "execution_count": null,
   "metadata": {
    "collapsed": true
   },
   "outputs": [],
   "source": []
  },
  {
   "cell_type": "code",
   "execution_count": 86,
   "metadata": {
    "collapsed": true
   },
   "outputs": [],
   "source": [
    "import numpy as np\n",
    "import pandas as pd\n",
    "import matplotlib.pyplot as plt\n",
    "\n",
    "\n",
    "p0 = pd.read_hdf('zwei_populationen.h5', key='P_0_10000')\n",
    "p1 = pd.read_hdf('zwei_populationen.h5', key='P_1')\n",
    "p0_1000 = pd.read_hdf('zwei_populationen.h5', key='P_0_1000')"
   ]
  },
  {
   "cell_type": "markdown",
   "metadata": {},
   "source": [
    "(a) Berechnen Sie die Mittelwerte μ P 0 und μ P 1 der beiden Populationen.\n"
   ]
  },
  {
   "cell_type": "code",
   "execution_count": 87,
   "metadata": {},
   "outputs": [
    {
     "name": "stdout",
     "output_type": "stream",
     "text": [
      "Mittelwerte:\n",
      "\n",
      "μ_p0\n",
      "x   -0.007300\n",
      "y    2.963676\n",
      "dtype: float64\n",
      "\n",
      "μ_p1\n",
      "x    6.096272\n",
      "y    3.174674\n",
      "dtype: float64\n"
     ]
    }
   ],
   "source": [
    "μ_p0 = p0.mean()\n",
    "μ_p1 = p1.mean()\n",
    "print('Mittelwerte:')\n",
    "print()\n",
    "print('μ_p0')\n",
    "print(μ_p0)\n",
    "print()\n",
    "print('μ_p1')\n",
    "print(μ_p1)\n"
   ]
  },
  {
   "cell_type": "markdown",
   "metadata": {},
   "source": [
    "(b) Berechnen Sie die Kovarianzmatrizen V P 0 und V P 1 der beiden Populationen, sowie die kombi-\n",
    "nierte Kovarianzmatrix V P 0,P 1 ."
   ]
  },
  {
   "cell_type": "code",
   "execution_count": 88,
   "metadata": {},
   "outputs": [
    {
     "name": "stdout",
     "output_type": "stream",
     "text": [
      "Kovarianzmatrix:\n",
      "\n",
      "V_p0\n",
      "           x         y\n",
      "x  12.554716  8.360258\n",
      "y   8.360258  6.838396\n",
      "\n",
      "V_p1\n",
      "           x        y\n",
      "x  12.052492  7.21376\n",
      "y   7.213760  5.32757\n",
      "\n",
      "V_p01\n",
      "           x         y\n",
      "x  21.616851  8.108595\n",
      "y   8.108595  6.093809\n"
     ]
    }
   ],
   "source": [
    "V_p0 = p0.cov()\n",
    "V_p1 = p1.cov()\n",
    "\n",
    "p0p1 = pd.concat([p0,p1])\n",
    "V_p01 = p0.append(p1).cov()\n",
    "\n",
    "print('Kovarianzmatrix:')\n",
    "print()\n",
    "print('V_p0')\n",
    "print(V_p0)\n",
    "print()\n",
    "print('V_p1')\n",
    "print(V_p1)\n",
    "print()\n",
    "print('V_p01')\n",
    "print(V_p01)"
   ]
  },
  {
   "cell_type": "markdown",
   "metadata": {},
   "source": [
    "(c) Konstruieren Sie eine lineare Fisher-Diskriminante λ ⃗ = λ ⋅ e λ ⃗ ⃗ . Geben Sie diese Geradengleichung\n",
    "an."
   ]
  },
  {
   "cell_type": "code",
   "execution_count": 89,
   "metadata": {},
   "outputs": [
    {
     "name": "stdout",
     "output_type": "stream",
     "text": [
      "Streumatrix:\n",
      "\n",
      "S0 =  [[125534.60451066  83594.21951235]\n",
      " [ 83594.21951235  68377.1222049 ]]\n",
      "\n",
      "S1 =  [[493048.72624545  85008.76520258]\n",
      " [ 85008.76520258  53715.57106624]]\n",
      "\n",
      "SW =  [[618583.33075611 168602.98471493]\n",
      " [168602.98471493 122092.69327114]]\n",
      "\n",
      "L =  [-1.50671717e-05  1.90787233e-05]\n",
      "Normierung:  2.431084837388791e-05\n",
      "L_norm =  [-0.61977153  0.78478229]\n"
     ]
    }
   ],
   "source": [
    "# Definition des Vektorprodukts\n",
    "def vprod(x):\n",
    "    y = np.atleast_2d(x)\n",
    "    return np.dot(y.T, y)\n",
    "\n",
    "S0 = np.zeros(2)\n",
    "for index, row in (p0 - μ_p0).iterrows():\n",
    "    S0 = S0 + vprod(row)\n",
    "\n",
    "S1 = np.zeros(2)\n",
    "for index, row in (p1 - μ_p0).iterrows():\n",
    "    S1 = S1 + vprod(row)\n",
    "\n",
    "# Addition der Matritzen\n",
    "SW = S0 + S1\n",
    "print('Streumatrix:')\n",
    "print()\n",
    "print('S0 = ', S0)\n",
    "print()\n",
    "print('S1 = ', S1)\n",
    "print()\n",
    "print('SW = ', SW)\n",
    "print()\n",
    "\n",
    "# Berechnung der Fischer-Diskriminante\n",
    "L = np.dot(np.linalg.inv(SW), (μ_p0-μ_p1))\n",
    "print('L = ', L)\n",
    "\n",
    "# Geradengleichung noch ausrechnen!!!\n",
    "norm = np.linalg.norm(L)\n",
    "print(\"Normierung: \", norm)\n",
    "L_norm = L/norm\n",
    "print('L_norm = ', L_norm)"
   ]
  },
  {
   "cell_type": "markdown",
   "metadata": {},
   "source": [
    "Es ergibt sich somit die Geradengleichung: \n",
    "\n",
    "$\\vec{\\lambda} = \\lambda \\cdot \\vec{e}_{\\lambda} = 0,0000243 \\cdot \\begin{pmatrix}\n",
    "                  -0,619 \\\\\n",
    "                  0,785 \\\\\n",
    "  \\end{pmatrix}$"
   ]
  },
  {
   "cell_type": "markdown",
   "metadata": {},
   "source": [
    "(d) Stellen Sie die Populationen als Projektion auf die Gerade aus (c) in einem eindimensionalen\n",
    "Histogramm dar."
   ]
  },
  {
   "cell_type": "code",
   "execution_count": 90,
   "metadata": {},
   "outputs": [
    {
     "data": {
      "image/png": "[encoded data removed]",
      "text/plain": [
       "<Figure size 432x288 with 1 Axes>"
      ]
     },
     "metadata": {},
     "output_type": "display_data"
    }
   ],
   "source": [
    "Projektion_0 = np.array([])\n",
    "for index, row in (p0).iterrows():\n",
    "    Projektion_0 = np.append(Projektion_0, np.vdot(row, L_norm))\n",
    "\n",
    "Projektion_1 = np.array([])\n",
    "for index, row in (p1).iterrows():\n",
    "    Projektion_1 = np.append(Projektion_1, np.vdot(row, L_norm))\n",
    "\n",
    "plt.hist(Projektion_0, label='P0 = Signal', bins=30, color='b', alpha=0.8)\n",
    "plt.hist(Projektion_1, label='P1 = Untergrund', bins=30, color='r', alpha=0.8)\n",
    "plt.xlabel('Projektionsebene')\n",
    "plt.ylabel('Anzahl Ereignisse')\n",
    "plt.legend(loc=\"best\")\n",
    "plt.tight_layout()\n",
    "plt.savefig('Projektionen.pdf')\n",
    "plt.show()\n",
    "plt.clf()\n",
    "\n",
    "None"
   ]
  },
  {
   "cell_type": "markdown",
   "metadata": {},
   "source": [
    "(e) Betrachten Sie P 0 als Signal und P 1 als Untergrund. Berechnen Sie die Effizienz und die Reinheit\n",
    "des Signals als Funktion eines Schnittes λ cut in λ und stellen Sie die Ergebnisse in einem Plot\n",
    "dar.\n",
    "\n",
    "(f) Bei welchem Wert von λ cut wird nach der Trennung das Signal-zu-Untergrundverhältnis S/B\n",
    "maximal? Erstellen Sie auch hierzu einen Plot.\n",
    "\n",
    "(g) Bei welchem Wert von λ cut wird nach der Trennung die Signifikanz S/ S + B maximal? Erstellen\n",
    "Sie auch hierzu einen Plot."
   ]
  },
  {
   "cell_type": "markdown",
   "metadata": {},
   "source": [
    "Die folgenden Formeln wurden verwendet:\n",
    "\n",
    "Reinheit = true positive / (true positive + false positive)\n",
    "\n",
    "Effizienz = true positive / (true positive + false negative)"
   ]
  },
  {
   "cell_type": "code",
   "execution_count": 91,
   "metadata": {},
   "outputs": [
    {
     "data": {
      "image/png": "[encoded data removed]",
      "text/plain": [
       "<Figure size 432x288 with 1 Axes>"
      ]
     },
     "metadata": {},
     "output_type": "display_data"
    },
    {
     "data": {
      "image/png": "[encoded data removed]",
      "text/plain": [
       "<Figure size 432x288 with 1 Axes>"
      ]
     },
     "metadata": {},
     "output_type": "display_data"
    },
    {
     "name": "stdout",
     "output_type": "stream",
     "text": [
      "Signal/Untergrund maximal bei λ = 2.070707070707071\n"
     ]
    },
    {
     "data": {
      "image/png": "[encoded data removed]",
      "text/plain": [
       "<Figure size 432x288 with 1 Axes>"
      ]
     },
     "metadata": {},
     "output_type": "display_data"
    },
    {
     "name": "stdout",
     "output_type": "stream",
     "text": [
      "Signifikanz maximal bei λ = 0.45454545454545414\n"
     ]
    }
   ],
   "source": [
    "lcut = np.linspace(-5,5, 100)\n",
    "Back = Projektion_1\n",
    "Sig = Projektion_0\n",
    "\n",
    "#leere Arrays erzeugen\n",
    "eff = np.zeros(len(lcut))\n",
    "rein = np.zeros(len(lcut))\n",
    "ver = np.zeros(len(lcut))\n",
    "sign = np.zeros(len(lcut))\n",
    "#Effizienz und Reinheit für jedes l_cut berechnen\n",
    "for i in range(len(lcut)):\n",
    "    tp = len(Sig[Sig > lcut[i]])\n",
    "    fp = len(Back[Back > lcut[i]])\n",
    "    fn = len(Sig[Sig <= lcut[i]])\n",
    "\n",
    "    eff[i] = tp/(tp + fn)\n",
    "    rein[i] = tp/(tp + fp)\n",
    "    if fp != 0:\n",
    "            ver[i] = tp/fp\n",
    "    sign[i] = tp/(np.sqrt(tp + fp))\n",
    "\n",
    "# Maximum des Verhältnisses berechnen\n",
    "lcut_maxv = lcut[np.argmax(ver)]\n",
    "#print('lcut_maxv = ', lcut_maxv )\n",
    "\n",
    "# Maximum der Signifikanz berechnen\n",
    "lcut_maxs = lcut[np.argmax(sign)]\n",
    "#print('lcut_maxs = ', lcut_maxs)\n",
    "\n",
    "\n",
    "# Plots\n",
    "plt.plot(lcut, eff, 'r-', label='Effizienz')\n",
    "plt.plot(lcut, rein, 'b-', label='Reinheit')\n",
    "plt.xlabel(r\"$\\lambda_{cut}$\")\n",
    "plt.ylabel('Effizienz und Reinheit')\n",
    "plt.legend(loc=\"best\")\n",
    "plt.tight_layout()\n",
    "plt.savefig('EffizienzReinheit.pdf')\n",
    "plt.show()\n",
    "plt.clf()\n",
    "\n",
    "plt.plot(lcut, ver, 'y-', label='Verhältnis')\n",
    "plt.xlabel(r\"$\\lambda_{cut}$\")\n",
    "plt.ylabel('Signal/Backround')\n",
    "plt.axvline(x=lcut_maxv, linestyle='--', label='Maximum')\n",
    "plt.legend(loc=\"best\")\n",
    "plt.tight_layout()\n",
    "plt.savefig('Verhältnis.pdf')\n",
    "plt.show()\n",
    "plt.clf()\n",
    "\n",
    "print('Signal/Untergrund maximal bei λ =', lcut_maxv )\n",
    "\n",
    "plt.plot(lcut, sign, 'r-', label='Signifikanz')\n",
    "plt.axvline(x=lcut_maxs, linestyle='--', label='Maximum')\n",
    "plt.xlabel(r\"$\\lambda_{cut}$\")\n",
    "plt.ylabel('Signifikanz')\n",
    "plt.legend(loc=\"best\")\n",
    "plt.tight_layout()\n",
    "plt.savefig('Signifikanz.pdf')\n",
    "plt.show()\n",
    "plt.clf()\n",
    "\n",
    "print('Signifikanz maximal bei λ =', lcut_maxs )\n",
    "\n",
    "None"
   ]
  },
  {
   "cell_type": "markdown",
   "metadata": {},
   "source": [
    "(h) Wiederholen Sie die Schritte (a) bis (g) für den Fall, dass P 0 nun die Population P_0_1000\n",
    "bezeichnet. Was fällt Ihnen auf? Interpretieren Sie die Ergebnisse."
   ]
  },
  {
   "cell_type": "code",
   "execution_count": 92,
   "metadata": {},
   "outputs": [
    {
     "name": "stdout",
     "output_type": "stream",
     "text": [
      "Mittelwerte:\n",
      "μ_2 =  x   -0.026781\n",
      "y    3.015787\n",
      "dtype: float64\n",
      "\n",
      "Kovarianzmatrizen:\n",
      "\n",
      "V_p2 = \n",
      "           x         y\n",
      "x  12.066306  8.126692\n",
      "y   8.126692  6.651329\n",
      "\n",
      "V_p21 = \n",
      "           x         y\n",
      "x  15.151426  7.376432\n",
      "y   7.376432  5.449404\n",
      "\n",
      "Streumatrix:\n",
      "S2 =  [[12054.24005952  8118.56549865]\n",
      " [ 8118.56549865  6644.67747606]]\n",
      "\n",
      "SW2 =  [[505102.96630497  93127.33070123]\n",
      " [ 93127.33070123  60360.2485423 ]]\n",
      "\n",
      "L2 =  [-1.62633576e-05  2.24597600e-05]\n",
      "Normierung2:  2.7729724492448756e-05\n",
      "L2_norm =  [-0.58649546  0.80995251]\n"
     ]
    }
   ],
   "source": [
    "p2 = pd.read_hdf('zwei_populationen.h5', key='P_0_1000')\n",
    "\n",
    "μ_p2 = p2.mean() \n",
    "print('Mittelwerte:')\n",
    "print('μ_2 = ', μ_p2)\n",
    "print()\n",
    "\n",
    "V_p2 = p2.cov()\n",
    "V_p21 = p2.append(p1).cov()\n",
    "\n",
    "print('Kovarianzmatrizen:')\n",
    "print()\n",
    "print('V_p2 = ')\n",
    "print(V_p2)\n",
    "print()\n",
    "print('V_p21 = ')\n",
    "print(V_p21)\n",
    "print()\n",
    "\n",
    "S2 = np.zeros(2)\n",
    "for index, row in (p2 - μ_p2).iterrows():\n",
    "    S2 = S2 + vprod(row)\n",
    "\n",
    "# Addition der Matritzen\n",
    "SW2 = S2 + S1\n",
    "print('Streumatrix:')\n",
    "print('S2 = ', S2)\n",
    "print()\n",
    "print('SW2 = ', SW2)\n",
    "print()\n",
    "\n",
    "L2 = np.dot(np.linalg.inv(SW2), (μ_p2-μ_p1))\n",
    "print('L2 = ', L2)\n",
    "# Geradengleichung noch ausrechnen!!!\n",
    "norm2 = np.linalg.norm(L2)\n",
    "print(\"Normierung2: \", norm2)\n",
    "L2_norm = L2/norm2\n",
    "print('L2_norm = ', L2_norm)\n",
    "\n",
    "None"
   ]
  },
  {
   "cell_type": "markdown",
   "metadata": {},
   "source": [
    "Es ergibt sich somit die Geradengleichung: \n",
    "\n",
    "$\\vec{\\lambda} = \\lambda \\cdot \\vec{e}_{\\lambda} = 0,0000277 \\cdot \\begin{pmatrix}\n",
    "                  -0,586 \\\\\n",
    "                  0,810 \\\\\n",
    "  \\end{pmatrix}$"
   ]
  },
  {
   "cell_type": "code",
   "execution_count": 93,
   "metadata": {},
   "outputs": [
    {
     "data": {
      "image/png": "[encoded data removed]",
      "text/plain": [
       "<Figure size 432x288 with 1 Axes>"
      ]
     },
     "metadata": {},
     "output_type": "display_data"
    },
    {
     "data": {
      "image/png": "[encoded data removed]",
      "text/plain": [
       "<Figure size 432x288 with 1 Axes>"
      ]
     },
     "metadata": {},
     "output_type": "display_data"
    },
    {
     "name": "stdout",
     "output_type": "stream",
     "text": [
      "Signal/Untergurund maximal bei λ = 2.1717171717171713\n"
     ]
    },
    {
     "data": {
      "image/png": "[encoded data removed]",
      "text/plain": [
       "<Figure size 432x288 with 1 Axes>"
      ]
     },
     "metadata": {},
     "output_type": "display_data"
    },
    {
     "name": "stdout",
     "output_type": "stream",
     "text": [
      "Signifikanz maximal bei λ = 1.1616161616161618\n"
     ]
    }
   ],
   "source": [
    "Projektion2_2 = np.array([])\n",
    "for index, row in (p2).iterrows():\n",
    "    Projektion2_2 = np.append(Projektion2_2, np.vdot(row, L2_norm))\n",
    "\n",
    "Projektion2_1 = np.array([])\n",
    "for index, row in (p1).iterrows():\n",
    "    Projektion2_1 = np.append(Projektion2_1, np.vdot(row, L2_norm))\n",
    "\n",
    "plt.hist(Projektion2_2, label='P2 = Signal', bins=30, color='b', alpha=0.8)\n",
    "plt.hist(Projektion2_1, label='P1 = Untergrund', bins=30, color='r', alpha=0.8)\n",
    "plt.xlabel('Projektionsebene')\n",
    "plt.ylabel('Anzahl Ereignisse')\n",
    "plt.legend(loc=\"best\")\n",
    "plt.tight_layout()\n",
    "plt.savefig('Projektionen2.pdf')\n",
    "plt.clf()\n",
    "\n",
    "lcut = np.linspace(-5,5, 100)\n",
    "Back2 = Projektion2_1\n",
    "Sig2 = Projektion2_2\n",
    "\n",
    "#leere Arrays erzeugen\n",
    "eff2 = np.zeros(len(lcut))\n",
    "rein2 = np.zeros(len(lcut))\n",
    "ver2 = np.zeros(len(lcut))\n",
    "sign2 = np.zeros(len(lcut))\n",
    "#Effizienz und Reinheit für jedes l_cut berechnen\n",
    "for i in range(len(lcut)):\n",
    "    tp2 = len(Sig2[Sig2 > lcut[i]])\n",
    "    fp2 = len(Back2[Back2 > lcut[i]])\n",
    "    fn2 = len(Sig2[Sig2 <= lcut[i]])\n",
    "\n",
    "    eff2[i] = tp2/(tp2 + fn2)\n",
    "    rein2[i] = tp2/(tp2 + fp2)\n",
    "    if fp2 != 0:\n",
    "            ver2[i] = tp2/fp2\n",
    "    sign2[i] = tp2/(np.sqrt(tp2 + fp2))\n",
    "\n",
    "# Maximum des Verhältnisses berechnen\n",
    "lcut2_maxv = lcut[np.argmax(ver2)]\n",
    "#print('lcut2_maxv = ', lcut2_maxv )\n",
    "\n",
    "# Maximum der Signifikanz berechnen\n",
    "lcut2_maxs = lcut[np.argmax(sign2)]\n",
    "#print('lcut2_maxs = ', lcut2_maxs)\n",
    "\n",
    "\n",
    "# Plots\n",
    "plt.plot(lcut, eff2, 'r-', label='Effizienz')\n",
    "plt.plot(lcut, rein2, 'b-', label='Reinheit')\n",
    "plt.xlabel(r\"$\\lambda_{cut}$\")\n",
    "plt.ylabel('Effizienz und Reinheit')\n",
    "plt.legend(loc=\"best\")\n",
    "plt.tight_layout()\n",
    "plt.savefig('EffizienzReinheit2.pdf')\n",
    "plt.show()\n",
    "plt.clf()\n",
    "\n",
    "plt.plot(lcut, ver2, 'y-', label='Verhältnis')\n",
    "plt.xlabel(r\"$\\lambda_{cut}$\")\n",
    "plt.ylabel('Signal/Backround')\n",
    "plt.axvline(x=lcut2_maxv, linestyle='--', label='Maximum')\n",
    "plt.legend(loc=\"best\")\n",
    "plt.tight_layout()\n",
    "plt.savefig('Verhältnis2.pdf')\n",
    "plt.show()\n",
    "plt.clf()\n",
    "\n",
    "print('Signal/Untergurund maximal bei λ =', lcut2_maxv )\n",
    "\n",
    "plt.plot(lcut, sign2, 'r-', label='Signifikanz')\n",
    "plt.axvline(x=lcut2_maxs, linestyle='--', label='Maximum')\n",
    "plt.xlabel(r\"$\\lambda_{cut}$\")\n",
    "plt.ylabel('Signifikanz')\n",
    "plt.legend(loc=\"best\")\n",
    "plt.tight_layout()\n",
    "plt.savefig('Signifikanz2.pdf')\n",
    "plt.show()\n",
    "plt.clf()\n",
    "\n",
    "print('Signifikanz maximal bei λ =', lcut2_maxs )\n",
    "\n",
    "None"
   ]
  },
  {
   "cell_type": "markdown",
   "metadata": {},
   "source": [
    "Da das Signal im Vergleich zum Untergrund bei der zweiten Population geringer ist, ist auch die Signifikanz wesentlich geringer. Dies liegt daran, dass bei großem Untergrund die Trennung nicht so gut funktioniert.\n"
   ]
  },
  {
   "cell_type": "code",
   "execution_count": null,
   "metadata": {
    "collapsed": true
   },
   "outputs": [],
   "source": []
  }
 ],
 "metadata": {
  "kernelspec": {
   "display_name": "Python 3",
   "language": "python",
   "name": "python3"
  },
  "language_info": {
   "codemirror_mode": {
    "name": "ipython",
    "version": 3
   },
   "file_extension": ".py",
   "mimetype": "text/x-python",
   "name": "python",
   "nbconvert_exporter": "python",
   "pygments_lexer": "ipython3",
   "version": "3.6.1"
  }
 },
 "nbformat": 4,
 "nbformat_minor": 2
}
