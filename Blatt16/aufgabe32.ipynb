{
 "cells": [
  {
   "cell_type": "markdown",
   "metadata": {},
   "source": [
    "# Aufgabe 32\n"
   ]
  },
  {
   "cell_type": "markdown",
   "metadata": {},
   "source": [
    "b) hr Kollege sieht sich die Messwerte an und stellt die Hypothese auf, dass der Fluss der kosmi-schen Strahlung einen dramatischen Zuwachs erlebt. Nehmen sie einen linear ansteigenden Flussan und berechnen sie numerisch mit Hilfe der Maxmimum-Likelihood-Methode die wahrschein-lichsten Flussparameter"
   ]
  },
  {
   "cell_type": "code",
   "execution_count": 9,
   "metadata": {},
   "outputs": [],
   "source": [
    "\n",
    "import matplotlib.pyplot as plt\n",
    "import numpy as np\n",
    "from scipy.optimize import curve_fit\n",
    "#import uncertainties.unumpy as unp\n",
    "from uncertainties import ufloat\n",
    "from scipy.stats import stats\n",
    "\n"
   ]
  },
  {
   "cell_type": "code",
   "execution_count": 22,
   "metadata": {},
   "outputs": [
    {
     "name": "stdout",
     "output_type": "stream",
     "text": [
      "m= 22+/-5 C0= 4131+/-20\n"
     ]
    },
    {
     "data": {
      "image/png": "[encoded data removed]",
      "text/plain": [
       "<Figure size 432x288 with 1 Axes>"
      ]
     },
     "metadata": {},
     "output_type": "display_data"
    }
   ],
   "source": [
    "\n",
    "x = np.array([1,2,3,4,5,6,7])\n",
    "y= np.array([4135,4202,4203,4218,4227,4231,4310])\n",
    "\n",
    "def f(m, x, C0):\n",
    "    return C0 + m*x\n",
    "\n",
    "paramsI, covarianceI = curve_fit(f, x, y)#das muss hier einfach alles hin...kann nicht genau sagen, was es macht.\n",
    "errorsI = np.sqrt(np.diag(covarianceI))\n",
    "C0= ufloat(paramsI[1], errorsI[1])\n",
    "m = ufloat(paramsI[0], errorsI[0])\n",
    "print('m=',m, 'C0=',C0) #\n",
    "\n",
    "L1plot = np.linspace(0, 7) #Grenzen fuer linregr. guckt nach den Grenzwerten fuer die x-Werte.\n",
    "\n",
    "plt.plot(x, y,'+', label=\"Messwerte\") #r+, macht, dass eure Werte als rote Plusse erscheinen. mit b* kommen blaue sterne...mehr Farben kann man online finden;)\n",
    "#Achsen beschriften!!!!!!\n",
    "plt.xlabel(r'Tag')\n",
    "plt.ylabel(r'Anzahl Counts')\n",
    "plt.plot(L1plot, f(L1plot, *paramsI) , label='Regression')\n",
    " #b- macht eine blaue durchgezogene Linie\n",
    "plt.tight_layout #macht irgendwas schoener. einfach dran machen...\n",
    "plt.legend(loc=\"best\") #macht die Legende an den Ort innerhalb des Plots, wo am meisten Platz dafuer ist.\n",
    "\n",
    "plt.show()"
   ]
  },
  {
   "cell_type": "markdown",
   "metadata": {},
   "source": [
    "c) Berechnen sie mit Hilfe eines Likelihood-Quotienten-Tests die Signifikanz seiner Beobachtung.Beurteilen sie die erreichte Signifikanz.Hinweis:Nehmen sie an, dass Wilks’ Theorem hier gültig ist. Warum darf man dies annehmen?"
   ]
  },
  {
   "cell_type": "code",
   "execution_count": null,
   "metadata": {
    "collapsed": true
   },
   "outputs": [],
   "source": []
  }
 ],
 "metadata": {
  "kernelspec": {
   "display_name": "Python 3",
   "language": "python",
   "name": "python3"
  },
  "language_info": {
   "codemirror_mode": {
    "name": "ipython",
    "version": 3
   },
   "file_extension": ".py",
   "mimetype": "text/x-python",
   "name": "python",
   "nbconvert_exporter": "python",
   "pygments_lexer": "ipython3",
   "version": "3.6.1"
  }
 },
 "nbformat": 4,
 "nbformat_minor": 2
}
