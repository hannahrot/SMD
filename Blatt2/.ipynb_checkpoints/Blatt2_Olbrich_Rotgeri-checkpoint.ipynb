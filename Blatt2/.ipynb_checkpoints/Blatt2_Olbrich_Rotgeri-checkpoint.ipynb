{
 "cells": [
  {
   "cell_type": "markdown",
   "metadata": {},
   "source": [
    "# Aufgabe 3 "
   ]
  },
  {
   "cell_type": "markdown",
   "metadata": {},
   "source": [
    "\n",
    "\n",
    "\n",
    "Nutzen Sie für diese Aufgabe die Schreibweise für Wahrscheinlichkeiten aus der Vorlesung (z.B. 𝑃(𝑊rot+𝑊blau=42)=…,𝑃(𝑊rot+𝑊blau=42∣𝑊rot=4)=…). Sie würfeln mit zwei Würfeln, einem roten und einem blauen. Wie groß ist die Wahrscheinlichkeit dafür, dass\n",
    "\n",
    "(a) die Summe der Punkte 9 ergibt?"
   ]
  },
  {
   "cell_type": "markdown",
   "metadata": {},
   "source": [
    "a) Es gibt insgesamt $6^2=36$ Möglichkeiten, die Würfel zu würfeln (da diese unterscheidbar sind). Es gibt 4 Möglichkeiten eine 9 zu würfeln (3 und 6, 6 und 3, 4 und 5, 5 und 4)\n",
    "\n",
    "$\\rightarrow P(\\text{Summe=}9)=\\frac{4}{36}= \\frac{1}{9} \\approx 0,11$"
   ]
  },
  {
   "cell_type": "markdown",
   "metadata": {},
   "source": [
    "(b) die Summe der Punkte 9 oder mehr ergibt?"
   ]
  },
  {
   "cell_type": "markdown",
   "metadata": {},
   "source": [
    "b) Es gibt 10 Möglichkeiten eine Summe von 9 oder mehr zu würfeln. \n",
    "\n",
    "$\\rightarrow P(\\text{Summe}\\geq 9)=\\frac{10}{36}= \\frac{5}{18}\\approx 0,28$"
   ]
  },
  {
   "cell_type": "markdown",
   "metadata": {},
   "source": [
    "(c) ein Würfel 4, der andere 5 Punkte zeigt?"
   ]
  },
  {
   "cell_type": "markdown",
   "metadata": {},
   "source": [
    "c) Hierfür gibt es zwei Möglichkeiten: Roter Würfel 4, blauer Würfel 5 und Roter Würfel 5, blauer Würfel 4. \n",
    "\n",
    "$\\rightarrow P(\\text{Würfelzahl 4} \\wedge \\text{Würfelzahl 5})=\\frac{2}{36}= \\frac{1}{18} \\approx 0,06$"
   ]
  },
  {
   "cell_type": "markdown",
   "metadata": {},
   "source": [
    "(d) der rote Würfel 4, der blaue 5 Punkte zeigt?"
   ]
  },
  {
   "cell_type": "markdown",
   "metadata": {},
   "source": [
    "Es gibt nur eine Möglichkeit.\n",
    "\n",
    "$\\rightarrow P(W_{rot}=4 \\wedge W_{blau}=5 )=\\frac{1}{36} \\approx 0,03$"
   ]
  },
  {
   "cell_type": "markdown",
   "metadata": {},
   "source": [
    "Sie werfen die Würfel so, dass der blaue Würfel hinter einen Gegenstand rollt, sodass Sie ihn zunächst nicht sehen können. Der rote Würfel zeigt eine 4. Nachdem Sie das gesehen haben, wie groß ist dann die Wahrscheinlichkeit dafür, dass"
   ]
  },
  {
   "cell_type": "markdown",
   "metadata": {},
   "source": [
    "(e) die Summe der Punkte 9 ergibt?"
   ]
  },
  {
   "cell_type": "markdown",
   "metadata": {},
   "source": [
    "Wenn die Summe genau 9 betragen soll, muss der blaue Würfel eine 5 anzeigen\n",
    "\n",
    "Satz von Bayes: \n",
    "$p(W_{blau}=5|W_{rot}=4)=\\frac{P(W_{rot}=4|W_{blau}=5) \\cdot P(W_{blau}=5)}{P(W_{rot}=4)}$\n",
    "\n",
    "\n",
    "Mit $P(W_{rot}=4|W_{blau}=5)=\\frac{P(W_{rot}=4 \\wedge W_{blau}=5)}{P(W_{blau}=5)}\n",
    "=\\frac{\\frac{1}{6}\\cdot\\frac{1}{6}}{\\frac{1}{6}}=\\frac{1}{6}$\n",
    "\n",
    "$\\rightarrow p(W_{blau}=5|W_{rot}=4)= \\frac{\\frac{1}{6}\\cdot\\frac{1}{6}}{\\frac{1}{6}}=\\frac{1}{6} $"
   ]
  },
  {
   "cell_type": "markdown",
   "metadata": {},
   "source": [
    "(f) die Summe der Punkte 9 oder mehr ergibt?"
   ]
  },
  {
   "cell_type": "markdown",
   "metadata": {},
   "source": [
    "$p(W_{blau}=5 \\vee 6|W_{rot}=4)=\\frac{P(W_{rot}=4|W_{blau}=5 \\vee 6) \\cdot P(W_{blau}=5 \\vee 6)}{P(W_{rot}=4)}$\n",
    "\n",
    "Mit $P(W_{rot}=4|W_{blau}=5 \\vee 6 )=\\frac{P(W_{rot}=4 \\wedge W_{blau}=5\\vee 6)}{P(W_{blau}=5 \\vee 6)}\n",
    "=\\frac{\\frac{1}{6}\\cdot\\frac{1}{3}}{\\frac{1}{3}}=\\frac{1}{6}$\n",
    "\n",
    "$\\rightarrow p(W_{blau}=5 \\vee 6|W_{rot}=4)= \\frac{\\frac{1}{6}\\cdot\\frac{1}{3}}{\\frac{1}{6}}=\\frac{1}{3} $"
   ]
  },
  {
   "cell_type": "markdown",
   "metadata": {},
   "source": [
    "(g) der rote Würfel 4, der blaue 5 Punkte zeigt?"
   ]
  },
  {
   "cell_type": "markdown",
   "metadata": {},
   "source": [
    "Berechnung wie bei e) \n",
    "\n",
    "$\\rightarrow p(W_{blau}=5|W_{rot}=4)= \\frac{\\frac{1}{6}\\cdot\\frac{1}{6}}{\\frac{1}{6}}=\\frac{1}{6} $\n"
   ]
  },
  {
   "cell_type": "markdown",
   "metadata": {
    "collapsed": true
   },
   "source": [
    "# Aufgabe 4\n",
    "\n",
    "Die Wahrscheinlichkeitsdichte des Betrags der Geschwindigkeit v der Moleküle in einem idealen Gas\n",
    "bei der absoluten Temperatur T ist\n",
    "f(v) = N ⋅ exp(−\n",
    "mv^2\n",
    ") ⋅ 4πv 2 ,\n",
    "2k B T\n",
    "dabei ist m die Molekülmasse, $k_B$ die Boltzmannkonstante und N die Normalisierungskonstante.\n",
    "Zur Beantwortung der Fragen müssen Sie zuerst N bestimmen! Drücken Sie die Ergebnisse als Funktion\n",
    "von m und T aus, sowie die anderen Ergebnisse als Funktion von $v_m$."
   ]
  },
  {
   "cell_type": "markdown",
   "metadata": {},
   "source": [
    "N bestimmen: $\\int_{-\\infty}^{\\infty} f(v) dv = 1$\n",
    "\n",
    "Hier: negative Geschwindigkeiten sind physikalisch nicht sinnvoll, daher: $\\int_{0}^{\\infty} f(v) dv = 1$"
   ]
  },
  {
   "cell_type": "markdown",
   "metadata": {},
   "source": [
    "$\\int_{0}^{\\infty} f(v) dv = \\frac{2^\\frac{3}{2}{\\pi}^\\frac{3}{2}(k_B T)^\\frac{3}{2}N}{m^\\frac{3}{2}} = 1 \\\\\n",
    "\\to N = (\\frac{m}{2 \\pi k_B T})^{1.5} $"
   ]
  },
  {
   "cell_type": "markdown",
   "metadata": {},
   "source": [
    "(a) die wahrscheinlichste Geschwindigkeit $v_m$"
   ]
  },
  {
   "cell_type": "markdown",
   "metadata": {},
   "source": [
    "$\\to$ Maximum der Wahrscheinlichkeitsdichte $\\to f'(v)=0$ \n",
    "\n",
    "$f'(v)= -\\frac{4{\\pi}Nx\\left(mx^2-2k_BT\\right)\\mathrm{e}^{-\\frac{mx^2}{2k_BT}}}{k_BT} = 0 \\to v_1 = 0, v_2 = \\sqrt{2k_BT/m} $\n",
    "\n",
    "$f(0)=0 \\to$ nicht das Maximum\n",
    "\n",
    "$f(v_1)= N \\mathrm{e}^{-1} 4\\pi \\cdot 2k_BT/m = 4\\pi \\cdot (\\frac{m}{2 \\pi k_B T})^{0.5}/\\mathrm{e}$"
   ]
  },
  {
   "cell_type": "markdown",
   "metadata": {},
   "source": [
    "Antwort: $v_m = \\sqrt{2k_BT/m}$"
   ]
  },
  {
   "cell_type": "markdown",
   "metadata": {},
   "source": [
    "(b) der Mittelwert der Geschwindigkeit ⟨v⟩"
   ]
  },
  {
   "cell_type": "markdown",
   "metadata": {},
   "source": [
    "$\\int_{0}^{\\infty} v \\, f(v) dv = \\dfrac{8{\\pi}(k_BT)^2}{m^2}N = 2^{1.5}(\\frac{k_BTm}{\\pi})^{0.5} = ⟨v⟩$"
   ]
  },
  {
   "cell_type": "markdown",
   "metadata": {},
   "source": [
    "(c) der Median der Geschwindigkeit $v_{0,5}$ "
   ]
  },
  {
   "cell_type": "markdown",
   "metadata": {},
   "source": [
    "$\\int_{0}^{v_{0.5}} f(v) dv = 0.5$"
   ]
  },
  {
   "cell_type": "markdown",
   "metadata": {},
   "source": [
    "(d) die volle Breite auf halber Höhe der Verteilung ($v_{FWHM}$ )"
   ]
  },
  {
   "cell_type": "markdown",
   "metadata": {},
   "source": [
    "$f(v_{FWHM}) = 2\\pi \\cdot (\\frac{m}{2 \\pi k_B T})^{0.5}/\\mathrm{e} \\to$ umstellen nach $v_{FWHM}$"
   ]
  },
  {
   "cell_type": "markdown",
   "metadata": {},
   "source": [
    "(e) die Standardabweichung der Geschwindigkeit $σ_v$"
   ]
  },
  {
   "cell_type": "markdown",
   "metadata": {},
   "source": [
    "$σ_v² = \\int_{0}^{\\infty}(v - ⟨v⟩)² f(v) dv = -\\dfrac{\\left(2^\\frac{9}{2}{\\pi}^\\frac{5}{2}(k_BT)^\\frac{7}{2}m-8{\\pi}(k_BT)^2\\sqrt{m}\\right)N^2}{m^\\frac{9}{2}}$\n",
    "\n",
    "$σ_v = -\\frac{\\left(2^\\frac{9}{4}{\\pi}^\\frac{5}{4}(k_BT)^\\frac{7}{4}\\sqrt{m}-{\\sqrt{8\\pi}}(k_BT){m}^\\frac{1}{4}\\right)N}{m^\\frac{9}{4}} = ((2\\pi)³ k_BTm)^{1/4}-\\frac{1}{\\pi (k_BT)^2}$"
   ]
  },
  {
   "cell_type": "code",
   "execution_count": null,
   "metadata": {},
   "outputs": [],
   "source": []
  }
 ],
 "metadata": {
  "kernelspec": {
   "display_name": "Python 3",
   "language": "python",
   "name": "python3"
  },
  "language_info": {
   "codemirror_mode": {
    "name": "ipython",
    "version": 3
   },
   "file_extension": ".py",
   "mimetype": "text/x-python",
   "name": "python",
   "nbconvert_exporter": "python",
   "pygments_lexer": "ipython3",
   "version": "3.7.5"
  }
 },
 "nbformat": 4,
 "nbformat_minor": 2
}
