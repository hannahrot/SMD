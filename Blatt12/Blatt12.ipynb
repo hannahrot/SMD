{
 "cells": [
  {
   "cell_type": "markdown",
   "metadata": {},
   "source": [
    "# Aufgabe 24"
   ]
  },
  {
   "cell_type": "markdown",
   "metadata": {},
   "source": [
    "Die Parameter einer Ausgleichsgeraden 𝑦 = 𝑎0+𝑎1𝑥 wurden zu 𝑎0=1,0±0,2 und 𝑎1=1,0±0,2 bestimmt. Der Korrelationskoefffizient ist 𝜌 = −0,8. Bestimmen Sie die Unsicherheit eines Wertes 𝑦 als Funktion von 𝑥."
   ]
  },
  {
   "cell_type": "markdown",
   "metadata": {},
   "source": [
    "(a)Bestimmen Sie das Resultat analytisch sowohl unter Berücksichtigung der Korrelation als auch unter Vernachlässigung der Korrelation"
   ]
  },
  {
   "cell_type": "markdown",
   "metadata": {},
   "source": [
    "Vernachlässigung der Korrelation:\n",
    "\\begin{align}\n",
    "\\sigma_y^2 &= (\\frac{\\partial y}{\\partial a_0} \\sigma_{a0})^2 +(\\frac{\\partial y}{\\partial a_1} \\sigma_{a1})^2 \\\\\n",
    "&= \\sigma_{a0}^2 + x^2\\sigma_{a1}^2 = 0,04 + 0,04 x^2\n",
    "\\end{align}\n",
    "\n",
    "Berücksichtigung der Korrelation: \n",
    "\\begin{align}\n",
    "\\sigma_y^2 &= (\\frac{\\partial y}{\\partial a_0} \\sigma_{a0})^2 +(\\frac{\\partial y}{\\partial a_1} \\sigma_{a1})^2 + 2 \\frac{\\partial y}{\\partial a_0}\\frac{\\partial y}{\\partial a_1} \\cdot cov \\\\\n",
    "&= \\sigma_{a0}^2 + x^2\\sigma_{a1}^2 +2 x \\cdot cov  \\\\\n",
    "&= \\sigma_{a0}^2 + x^2\\sigma_{a1}^2 +2 x \\cdot \\rho \\sigma_{a0} \\sigma_{a1} \\\\\n",
    "&= 0,04 + 0,04 x^2 -0,064x\n",
    "\\end{align}"
   ]
  },
  {
   "cell_type": "markdown",
   "metadata": {},
   "source": [
    "(b)Bestimmen Sie das Resultat numerisch mit einer Monte Carlo Simulation. Visualisieren Sie die Parameter 𝑎0 und 𝑎1 in einem Scatter-Plot."
   ]
  },
  {
   "cell_type": "code",
   "execution_count": 1,
   "metadata": {},
   "outputs": [
    {
     "ename": "ModuleNotFoundError",
     "evalue": "No module named 'uncertainties'",
     "output_type": "error",
     "traceback": [
      "\u001b[0;31m---------------------------------------------------------------------------\u001b[0m",
      "\u001b[0;31mModuleNotFoundError\u001b[0m                       Traceback (most recent call last)",
      "\u001b[0;32m<ipython-input-1-50b5e40d5328>\u001b[0m in \u001b[0;36m<module>\u001b[0;34m\u001b[0m\n\u001b[1;32m      1\u001b[0m \u001b[0;32mimport\u001b[0m \u001b[0mnumpy\u001b[0m \u001b[0;32mas\u001b[0m \u001b[0mnp\u001b[0m\u001b[0;34m\u001b[0m\u001b[0;34m\u001b[0m\u001b[0m\n\u001b[0;32m----> 2\u001b[0;31m \u001b[0;32mimport\u001b[0m \u001b[0muncertainties\u001b[0m \u001b[0;32mas\u001b[0m \u001b[0munc\u001b[0m\u001b[0;34m\u001b[0m\u001b[0;34m\u001b[0m\u001b[0m\n\u001b[0m\u001b[1;32m      3\u001b[0m \u001b[0;32mfrom\u001b[0m \u001b[0muncertainties\u001b[0m \u001b[0;32mimport\u001b[0m \u001b[0mufloat\u001b[0m\u001b[0;34m\u001b[0m\u001b[0;34m\u001b[0m\u001b[0m\n\u001b[1;32m      4\u001b[0m \u001b[0;32mfrom\u001b[0m \u001b[0muncertainties\u001b[0m \u001b[0;32mimport\u001b[0m \u001b[0mcorrelated_values\u001b[0m\u001b[0;34m\u001b[0m\u001b[0;34m\u001b[0m\u001b[0m\n\u001b[1;32m      5\u001b[0m \u001b[0;32mfrom\u001b[0m \u001b[0mscipy\u001b[0m\u001b[0;34m.\u001b[0m\u001b[0moptimize\u001b[0m \u001b[0;32mimport\u001b[0m \u001b[0mcurve_fit\u001b[0m\u001b[0;34m\u001b[0m\u001b[0;34m\u001b[0m\u001b[0m\n",
      "\u001b[0;31mModuleNotFoundError\u001b[0m: No module named 'uncertainties'"
     ]
    }
   ],
   "source": [
    "import numpy as np\n",
    "import uncertainties as unc\n",
    "from uncertainties import ufloat\n",
    "from uncertainties import correlated_values\n",
    "from scipy.optimize import curve_fit\n",
    "import matplotlib.pyplot as plt"
   ]
  },
  {
   "cell_type": "code",
   "execution_count": null,
   "metadata": {},
   "outputs": [],
   "source": [
    "a_0= ufloat(1,0.2)\n",
    "a_1= ufloat(1,0.2)\n",
    "\n",
    "\n"
   ]
  },
  {
   "cell_type": "markdown",
   "metadata": {},
   "source": [
    "## Ohne Korrelation"
   ]
  },
  {
   "cell_type": "code",
   "execution_count": 2,
   "metadata": {},
   "outputs": [
    {
     "ename": "NameError",
     "evalue": "name 'plt' is not defined",
     "output_type": "error",
     "traceback": [
      "\u001b[0;31m---------------------------------------------------------------------------\u001b[0m",
      "\u001b[0;31mNameError\u001b[0m                                 Traceback (most recent call last)",
      "\u001b[0;32m<ipython-input-2-2128cecbdd1d>\u001b[0m in \u001b[0;36m<module>\u001b[0;34m\u001b[0m\n\u001b[1;32m      9\u001b[0m \u001b[0ms2\u001b[0m \u001b[0;34m=\u001b[0m \u001b[0mnp\u001b[0m\u001b[0;34m.\u001b[0m\u001b[0mrandom\u001b[0m\u001b[0;34m.\u001b[0m\u001b[0mnormal\u001b[0m\u001b[0;34m(\u001b[0m\u001b[0mmu2\u001b[0m\u001b[0;34m,\u001b[0m \u001b[0msigma2\u001b[0m\u001b[0;34m,\u001b[0m \u001b[0;36m1000\u001b[0m\u001b[0;34m)\u001b[0m\u001b[0;34m\u001b[0m\u001b[0;34m\u001b[0m\u001b[0m\n\u001b[1;32m     10\u001b[0m \u001b[0;34m\u001b[0m\u001b[0m\n\u001b[0;32m---> 11\u001b[0;31m \u001b[0mplt\u001b[0m\u001b[0;34m.\u001b[0m\u001b[0mscatter\u001b[0m\u001b[0;34m(\u001b[0m\u001b[0ms1\u001b[0m\u001b[0;34m,\u001b[0m\u001b[0ms2\u001b[0m\u001b[0;34m,\u001b[0m\u001b[0ms\u001b[0m\u001b[0;34m=\u001b[0m\u001b[0;36m5\u001b[0m\u001b[0;34m)\u001b[0m\u001b[0;34m\u001b[0m\u001b[0;34m\u001b[0m\u001b[0m\n\u001b[0m\u001b[1;32m     12\u001b[0m \u001b[0mplt\u001b[0m\u001b[0;34m.\u001b[0m\u001b[0mshow\u001b[0m\u001b[0;34m(\u001b[0m\u001b[0;34m)\u001b[0m\u001b[0;34m\u001b[0m\u001b[0;34m\u001b[0m\u001b[0m\n",
      "\u001b[0;31mNameError\u001b[0m: name 'plt' is not defined"
     ]
    }
   ],
   "source": [
    "#Scatterplot ohne Korrelation\n",
    "\n",
    "mu1, sigma1 = 1, 0.2 # mean and standard deviation\n",
    "\n",
    "s1 = np.random.normal(mu1, sigma1, 1000)\n",
    "\n",
    "mu2, sigma2 = 1, 0.2 # mean and standard deviation\n",
    "\n",
    "s2 = np.random.normal(mu2, sigma2, 1000)\n",
    "\n",
    "plt.scatter(s1,s2,s=5)\n",
    "plt.show()"
   ]
  },
  {
   "cell_type": "code",
   "execution_count": 3,
   "metadata": {},
   "outputs": [
    {
     "name": "stdout",
     "output_type": "stream",
     "text": [
      "3.999965435559806\n"
     ]
    },
    {
     "ename": "NameError",
     "evalue": "name 'curve_fit' is not defined",
     "output_type": "error",
     "traceback": [
      "\u001b[0;31m---------------------------------------------------------------------------\u001b[0m",
      "\u001b[0;31mNameError\u001b[0m                                 Traceback (most recent call last)",
      "\u001b[0;32m<ipython-input-3-16b50ceabb44>\u001b[0m in \u001b[0;36m<module>\u001b[0;34m\u001b[0m\n\u001b[1;32m     20\u001b[0m \u001b[0mprint\u001b[0m\u001b[0;34m(\u001b[0m\u001b[0myy\u001b[0m\u001b[0;34m)\u001b[0m\u001b[0;34m\u001b[0m\u001b[0;34m\u001b[0m\u001b[0m\n\u001b[1;32m     21\u001b[0m \u001b[0;31m#Ausgleichskurve liefert uns dann die Parameter a,b,c. Dafür muss sigmay an unsere simulierten Werte gefittet werden.\u001b[0m\u001b[0;34m\u001b[0m\u001b[0;34m\u001b[0m\u001b[0;34m\u001b[0m\u001b[0m\n\u001b[0;32m---> 22\u001b[0;31m \u001b[0mparams\u001b[0m\u001b[0;34m,\u001b[0m \u001b[0mcov0\u001b[0m \u001b[0;34m=\u001b[0m \u001b[0mcurve_fit\u001b[0m\u001b[0;34m(\u001b[0m\u001b[0msigmay\u001b[0m\u001b[0;34m,\u001b[0m \u001b[0mxWerte\u001b[0m\u001b[0;34m,\u001b[0m \u001b[0mfehlery\u001b[0m\u001b[0;34m)\u001b[0m\u001b[0;34m\u001b[0m\u001b[0;34m\u001b[0m\u001b[0m\n\u001b[0m\u001b[1;32m     23\u001b[0m \u001b[0;34m\u001b[0m\u001b[0m\n\u001b[1;32m     24\u001b[0m \u001b[0ma\u001b[0m\u001b[0;34m,\u001b[0m \u001b[0mb\u001b[0m\u001b[0;34m,\u001b[0m \u001b[0mc\u001b[0m \u001b[0;34m=\u001b[0m \u001b[0mparams\u001b[0m\u001b[0;34m\u001b[0m\u001b[0;34m\u001b[0m\u001b[0m\n",
      "\u001b[0;31mNameError\u001b[0m: name 'curve_fit' is not defined"
     ]
    }
   ],
   "source": [
    "xWerte=np.linspace(-10,10,100) \n",
    "#ich weiß nicht in welchem Intervall x ist, bzw was die Grenzen der Ausgleichsgeraden sind, deswegen x-Intervall \n",
    "#selber ausgesucht.\n",
    "#y=s1 + s2*xWerte\n",
    "#print(np.mean(y), np.var(y)) #das wäre das Ergebnis, ohne die x Abhängikeit\n",
    "\n",
    "\n",
    "#Wir definieren eine Funktion, die die Unsicherheit von y in Abhängikeit von x darstellt.\n",
    "#zweite Ordnung, weil wir das schon aus der a) wissen\n",
    "def sigmay(x, a, b, c):\n",
    "    return a*x**2+b*x+c\n",
    "\n",
    "\n",
    "#Fehler der y-Werte mit Monte Carlo simulieren\n",
    "fehlery=[]\n",
    "for x in xWerte:\n",
    "    y=s1+s2*x\n",
    "    yy = np.var(y)\n",
    "    fehlery.append(yy)\n",
    "print(yy)\n",
    "#Ausgleichskurve liefert uns dann die Parameter a,b,c. Dafür muss sigmay an unsere simulierten Werte gefittet werden.\n",
    "params, cov0 = curve_fit(sigmay, xWerte, fehlery) \n",
    "\n",
    "a, b, c = params\n",
    "\n",
    "print(a, b, c)"
   ]
  },
  {
   "cell_type": "markdown",
   "metadata": {},
   "source": [
    "Numerisches Ergebnis ohne Berücksichtigung der Korrelation: $\\sigma_y^2= 0,039 x^2+ 0,003 x + 0,041$"
   ]
  },
  {
   "cell_type": "markdown",
   "metadata": {
    "collapsed": true
   },
   "source": [
    "## Mit Korrelation"
   ]
  },
  {
   "cell_type": "code",
   "execution_count": 4,
   "metadata": {},
   "outputs": [
    {
     "ename": "NameError",
     "evalue": "name 'a_0' is not defined",
     "output_type": "error",
     "traceback": [
      "\u001b[0;31m---------------------------------------------------------------------------\u001b[0m",
      "\u001b[0;31mNameError\u001b[0m                                 Traceback (most recent call last)",
      "\u001b[0;32m<ipython-input-4-c381244b9c98>\u001b[0m in \u001b[0;36m<module>\u001b[0;34m\u001b[0m\n\u001b[1;32m      1\u001b[0m \u001b[0mrho\u001b[0m\u001b[0;34m=\u001b[0m\u001b[0;34m-\u001b[0m\u001b[0;36m0.8\u001b[0m\u001b[0;34m\u001b[0m\u001b[0;34m\u001b[0m\u001b[0m\n\u001b[0;32m----> 2\u001b[0;31m cov= np.array([ [a_0.s**2, rho*a_0.s*a_1.s], \n\u001b[0m\u001b[1;32m      3\u001b[0m                [rho*a_0.s*a_1.s, a_1.s**2]])\n\u001b[1;32m      4\u001b[0m \u001b[0mprint\u001b[0m\u001b[0;34m(\u001b[0m\u001b[0mA\u001b[0m\u001b[0;34m)\u001b[0m\u001b[0;34m\u001b[0m\u001b[0;34m\u001b[0m\u001b[0m\n\u001b[1;32m      5\u001b[0m \u001b[0mmean\u001b[0m\u001b[0;34m=\u001b[0m\u001b[0;34m[\u001b[0m\u001b[0ma_0\u001b[0m\u001b[0;34m.\u001b[0m\u001b[0mn\u001b[0m\u001b[0;34m,\u001b[0m \u001b[0ma_1\u001b[0m\u001b[0;34m.\u001b[0m\u001b[0mn\u001b[0m\u001b[0;34m]\u001b[0m\u001b[0;34m\u001b[0m\u001b[0;34m\u001b[0m\u001b[0m\n",
      "\u001b[0;31mNameError\u001b[0m: name 'a_0' is not defined"
     ]
    }
   ],
   "source": [
    "rho=-0.8\n",
    "cov= np.array([ [a_0.s**2, rho*a_0.s*a_1.s], \n",
    "               [rho*a_0.s*a_1.s, a_1.s**2]])\n",
    "print(A)\n",
    "mean=[a_0.n, a_1.n]\n",
    "Korr = np.random.multivariate_normal(mean, cov, size=10**3, check_valid='warn', tol=1e-8)\n",
    "\n",
    "np.shape(Korrelation)\n",
    "\n",
    "a0_korr=Korr[:,0]\n",
    "a1_korr=Korr[:,1]\n",
    "plt.scatter(a0_korr, a1_korr, s=0.5)\n",
    "plt.xlabel(r'$a_0$')\n",
    "plt.ylabel(r'$a_1$')\n",
    "plt.show()"
   ]
  },
  {
   "cell_type": "code",
   "execution_count": 5,
   "metadata": {},
   "outputs": [
    {
     "ename": "NameError",
     "evalue": "name 'a0_korr' is not defined",
     "output_type": "error",
     "traceback": [
      "\u001b[0;31m---------------------------------------------------------------------------\u001b[0m",
      "\u001b[0;31mNameError\u001b[0m                                 Traceback (most recent call last)",
      "\u001b[0;32m<ipython-input-5-cc1a191b08ae>\u001b[0m in \u001b[0;36m<module>\u001b[0;34m\u001b[0m\n\u001b[1;32m      2\u001b[0m \u001b[0mfehlery\u001b[0m\u001b[0;34m=\u001b[0m\u001b[0;34m[\u001b[0m\u001b[0;34m]\u001b[0m\u001b[0;34m\u001b[0m\u001b[0;34m\u001b[0m\u001b[0m\n\u001b[1;32m      3\u001b[0m \u001b[0;32mfor\u001b[0m \u001b[0mx\u001b[0m \u001b[0;32min\u001b[0m \u001b[0mxWerte\u001b[0m\u001b[0;34m:\u001b[0m\u001b[0;34m\u001b[0m\u001b[0;34m\u001b[0m\u001b[0m\n\u001b[0;32m----> 4\u001b[0;31m     \u001b[0my\u001b[0m\u001b[0;34m=\u001b[0m\u001b[0ma0_korr\u001b[0m\u001b[0;34m+\u001b[0m\u001b[0ma1_korr\u001b[0m\u001b[0;34m*\u001b[0m\u001b[0mx\u001b[0m\u001b[0;34m\u001b[0m\u001b[0;34m\u001b[0m\u001b[0m\n\u001b[0m\u001b[1;32m      5\u001b[0m     \u001b[0myy\u001b[0m \u001b[0;34m=\u001b[0m \u001b[0mnp\u001b[0m\u001b[0;34m.\u001b[0m\u001b[0mvar\u001b[0m\u001b[0;34m(\u001b[0m\u001b[0my\u001b[0m\u001b[0;34m)\u001b[0m\u001b[0;34m\u001b[0m\u001b[0;34m\u001b[0m\u001b[0m\n\u001b[1;32m      6\u001b[0m     \u001b[0mfehlery\u001b[0m\u001b[0;34m.\u001b[0m\u001b[0mappend\u001b[0m\u001b[0;34m(\u001b[0m\u001b[0myy\u001b[0m\u001b[0;34m)\u001b[0m\u001b[0;34m\u001b[0m\u001b[0;34m\u001b[0m\u001b[0m\n",
      "\u001b[0;31mNameError\u001b[0m: name 'a0_korr' is not defined"
     ]
    }
   ],
   "source": [
    "\n",
    "#Fehler der y-Werte mit Monte Carlo simulieren\n",
    "fehlery=[]\n",
    "for x in xWerte:\n",
    "    y=a0_korr+a1_korr*x\n",
    "    yy = np.var(y)\n",
    "    fehlery.append(yy)\n",
    "print(yy)\n",
    "#Ausgleichskurve liefert uns dann die Parameter a,b,c. Dafür muss sigmay an unsere simulierten Werte gefittet werden.\n",
    "params, cov0 = curve_fit(sigmay, xWerte, fehlery) \n",
    "\n",
    "a, b, c = params\n",
    "print(params)\n",
    "print(a, b, c)"
   ]
  },
  {
   "cell_type": "markdown",
   "metadata": {},
   "source": [
    "Numerisches Ergebnis mit Berücksichtigung der Korrelation: $\\sigma_y^2= 0,039 x^2- 0,060 x + 0,037$"
   ]
  },
  {
   "cell_type": "markdown",
   "metadata": {},
   "source": [
    "c) Bestimmen Sie die Vorhersagen 𝑦(Mittelwert und Standardabweichung) für feste 𝑥=−3,0,+3  numerisch sowie analytisch und vergleichen Sie diese"
   ]
  },
  {
   "cell_type": "code",
   "execution_count": 6,
   "metadata": {},
   "outputs": [
    {
     "name": "stdout",
     "output_type": "stream",
     "text": [
      "x= -3 :\n",
      "Analytischer Mittelwert= -2\n",
      "Analytische Standardabweichung: 0.4381780693736281\n"
     ]
    },
    {
     "ename": "NameError",
     "evalue": "name 'a0_korr' is not defined",
     "output_type": "error",
     "traceback": [
      "\u001b[0;31m---------------------------------------------------------------------------\u001b[0m",
      "\u001b[0;31mNameError\u001b[0m                                 Traceback (most recent call last)",
      "\u001b[0;32m<ipython-input-6-593a0eb23e56>\u001b[0m in \u001b[0;36m<module>\u001b[0;34m\u001b[0m\n\u001b[1;32m      9\u001b[0m     \u001b[0mprint\u001b[0m\u001b[0;34m(\u001b[0m \u001b[0;34m'Analytischer Mittelwert='\u001b[0m\u001b[0;34m,\u001b[0m \u001b[0mmean_ana\u001b[0m\u001b[0;34m)\u001b[0m\u001b[0;34m\u001b[0m\u001b[0;34m\u001b[0m\u001b[0m\n\u001b[1;32m     10\u001b[0m     \u001b[0mprint\u001b[0m\u001b[0;34m(\u001b[0m\u001b[0;34m'Analytische Standardabweichung:'\u001b[0m\u001b[0;34m,\u001b[0m \u001b[0mstd_ana\u001b[0m\u001b[0;34m)\u001b[0m\u001b[0;34m\u001b[0m\u001b[0;34m\u001b[0m\u001b[0m\n\u001b[0;32m---> 11\u001b[0;31m     \u001b[0my\u001b[0m\u001b[0;34m=\u001b[0m \u001b[0ma0_korr\u001b[0m \u001b[0;34m+\u001b[0m \u001b[0ma1_korr\u001b[0m \u001b[0;34m*\u001b[0m\u001b[0mx\u001b[0m\u001b[0;34m\u001b[0m\u001b[0;34m\u001b[0m\u001b[0m\n\u001b[0m\u001b[1;32m     12\u001b[0m     \u001b[0mmean_monte\u001b[0m\u001b[0;34m=\u001b[0m\u001b[0mnp\u001b[0m\u001b[0;34m.\u001b[0m\u001b[0mmean\u001b[0m\u001b[0;34m(\u001b[0m\u001b[0my\u001b[0m\u001b[0;34m)\u001b[0m\u001b[0;34m\u001b[0m\u001b[0;34m\u001b[0m\u001b[0m\n\u001b[1;32m     13\u001b[0m     \u001b[0mstd_monte\u001b[0m\u001b[0;34m=\u001b[0m\u001b[0mnp\u001b[0m\u001b[0;34m.\u001b[0m\u001b[0mstd\u001b[0m\u001b[0;34m(\u001b[0m\u001b[0my\u001b[0m\u001b[0;34m)\u001b[0m\u001b[0;34m\u001b[0m\u001b[0;34m\u001b[0m\u001b[0m\n",
      "\u001b[0;31mNameError\u001b[0m: name 'a0_korr' is not defined"
     ]
    }
   ],
   "source": [
    "#Analytisch unkorreliert\n",
    "def y_varianz(x, sigma_a0, sigma_a1, cov):\n",
    "    return sigma_a0**+x**2*sigma_a1**2+2*cov*x\n",
    "x_c=[-3,0,3]\n",
    "for x in x_c:\n",
    "    print('x=',x,':')\n",
    "    mean_ana= 1+x #denn y=a_0+a_1*x mit a_0 und a_1=1\n",
    "    std_ana=np.sqrt(y_varianz(x,0.2,0.2, -0.032))\n",
    "    print( 'Analytischer Mittelwert=', mean_ana)\n",
    "    print('Analytische Standardabweichung:', std_ana)\n",
    "    y= a0_korr + a1_korr *x\n",
    "    mean_monte=np.mean(y)\n",
    "    std_monte=np.std(y)\n",
    "    print('Mittelwert nach Monte Carlo=',mean_monte)\n",
    "    print('Standardabweichung nach MC=', std_monte)\n",
    "    Abweichung_mean=(mean_ana-mean_monte)/mean_ana*100\n",
    "    Abweichung_std=(std_ana-std_monte)/std_ana*100\n",
    "    print('Abweichung Mittelwert=', Abweichung_mean, '%')\n",
    "    print('Abweichung Standardabweichung=', Abweichung_std, '%')"
   ]
  },
  {
   "cell_type": "markdown",
   "metadata": {
    "collapsed": true
   },
   "source": [
    "# Aufgabe 25"
   ]
  },
  {
   "cell_type": "markdown",
   "metadata": {
    "collapsed": true
   },
   "source": [
    "Wurde per Hand aufgeschrieben und ist dem PDF angefügt."
   ]
  },
  {
   "cell_type": "code",
   "execution_count": null,
   "metadata": {},
   "outputs": [],
   "source": []
  }
 ],
 "metadata": {
  "kernelspec": {
   "display_name": "Python 3",
   "language": "python",
   "name": "python3"
  },
  "language_info": {
   "codemirror_mode": {
    "name": "ipython",
    "version": 3
   },
   "file_extension": ".py",
   "mimetype": "text/x-python",
   "name": "python",
   "nbconvert_exporter": "python",
   "pygments_lexer": "ipython3",
   "version": "3.7.7"
  }
 },
 "nbformat": 4,
 "nbformat_minor": 2
}
