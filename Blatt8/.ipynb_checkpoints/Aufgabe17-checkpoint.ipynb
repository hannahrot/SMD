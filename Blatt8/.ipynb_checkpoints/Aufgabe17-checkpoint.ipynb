{
 "cells": [
  {
   "cell_type": "markdown",
   "metadata": {},
   "source": [
    "# Aufgabe 17\n"
   ]
  },
  {
   "cell_type": "markdown",
   "metadata": {},
   "source": [
    "Sie haben einen Datensatz wie er in Tabelle 4 gegeben ist. Hierbei ist\n",
    "• Temperatur: Temperatur in Grad Celsius.\n",
    "• Wettervorhersage: Wetterqualität (0: schlecht , 1: normal, 2: gut).\n",
    "• Luftfeuchtigkeit: Luftfeuchtigkeit in Prozent.\n",
    "• Wind: Aussage, ob es gerade windig ist.\n",
    "• Fußball: Lohnt es sich Fußball spielen zu gehen?\n",
    "Hierbei ist das Zielattribut, welches man bestimmen will, die Entscheidung, ob es sich lohnt Fußball\n",
    "spielen zu gehen. In dieser Aufgabe sollen Sie zu diesem Zweck den ersten Schnitt eines binären\n",
    "Entscheidungsbaumes nachvollziehen.\n"
   ]
  },
  {
   "cell_type": "markdown",
   "metadata": {
    "collapsed": true
   },
   "source": [
    "(a) Berechnen Sie per Hand die Entropie der Wurzel (des Baumes)."
   ]
  },
  {
   "cell_type": "code",
   "execution_count": 2,
   "metadata": {
    "collapsed": true
   },
   "outputs": [],
   "source": [
    "  \n",
    "import matplotlib.pyplot as plt\n",
    "import numpy as np\n",
    "import pandas as pd\n",
    "from scipy.optimize import curve_fit\n",
    "from uncertainties import ufloat\n",
    "from scipy.stats import stats\n",
    "\n",
    "\n"
   ]
  },
  {
   "cell_type": "code",
   "execution_count": 3,
   "metadata": {
    "collapsed": true
   },
   "outputs": [],
   "source": [
    "Temperatur, Wetter, Luftfeuchtigkeit, Wind, Fußball = np.genfromtxt('Data.txt', unpack=True)\n"
   ]
  },
  {
   "cell_type": "code",
   "execution_count": 4,
   "metadata": {},
   "outputs": [
    {
     "name": "stdout",
     "output_type": "stream",
     "text": [
      "0.9402859586706311\n"
     ]
    }
   ],
   "source": [
    "def get_Entropie(p_1, p_2):\n",
    "    if p_1==0:\n",
    "        S = -p_2*np.log2(p_2)\n",
    "    elif p_2==0:\n",
    "        S = -p_1*np.log2(p_1)\n",
    "    else:\n",
    "        S = -(p_1*np.log2(p_1) + p_2*np.log2(p_2))\n",
    "    return S\n",
    "\n",
    "\n",
    "# Entropie berechnen:\n",
    "p_Fußball_False = len(Fußball[Fußball==False])/len(Fußball)\n",
    "p_Fußball_True = 1- p_Fußball_False\n",
    "S = get_Entropie(p_Fußball_False, p_Fußball_True)\n",
    "print(S)"
   ]
  },
  {
   "cell_type": "markdown",
   "metadata": {},
   "source": [
    "Die Entropie wird mit folgender Formel berechnet:\n",
    "\\begin{align*}\n",
    "S &= - \\sum_i p_i \\log_2(p_i) \\\\ \n",
    "   &= - \\left[ P(\\text{Fußball=True})\\log_2(P(\\text{Fußball=True})) +\n",
    "        P(\\text{Fußball=False})\\log_2(P(\\text{Fußball=False}))\\right] \\\\\n",
    "    &= 0,9402 \\\\\n",
    "\\end{align*} \n",
    "Mit\n",
    "\\begin{align*}\n",
    "  P(\\text{Fußball=True}) &= \\frac{9}{14}\\\\\n",
    "  P(\\text{Fußball=False}) &= \\frac{5}{14}\\\\\n",
    "\\end{align*}"
   ]
  },
  {
   "cell_type": "markdown",
   "metadata": {},
   "source": [
    "b) Berechnen Sie per Hand den Informationsgewinn, falls ein Schnitt auf dem Attribut Wind durchgeführt wird.\n"
   ]
  },
  {
   "cell_type": "code",
   "execution_count": 5,
   "metadata": {},
   "outputs": [
    {
     "name": "stdout",
     "output_type": "stream",
     "text": [
      "14\n",
      "0.5 0.5 0.25 0.75\n",
      "0.04812703040826949\n"
     ]
    }
   ],
   "source": [
    "P_Wind_false = len(Wind[Wind==False])/len(Wind)\n",
    "P_Wind_true =1-P_Wind_false\n",
    "print(len(np.logical_and(Wind==True, Fußball==True)))\n",
    "P_Windtrue_fußballtrue = len(Wind[np.logical_and(Wind==True, Fußball==True)])/len(Wind[Wind==True])\n",
    "P_Windtrue_fußballfalse = len(Wind[np.logical_and(Wind==True, Fußball==False)])/len(Wind[Wind==True])\n",
    "P_Windfalse_fußballfalse = len(Wind[np.logical_and(Wind==False, Fußball==False)])/len(Wind[Wind==False])\n",
    "P_Windfalse_fußballtrue = len(Wind[np.logical_and(Wind==False, Fußball==True)])/len(Wind[Wind==False])\n",
    "print(P_Windtrue_fußballtrue, P_Windtrue_fußballfalse, P_Windfalse_fußballfalse, P_Windfalse_fußballtrue )\n",
    "\n",
    "\n",
    "IG=S-(len(Wind[Wind==True])/14) * (get_Entropie(P_Windtrue_fußballfalse, P_Windtrue_fußballtrue)) - (len(Wind[Wind==False])/14)*(get_Entropie(P_Windfalse_fußballfalse, P_Windfalse_fußballtrue))\n",
    "print(IG) "
   ]
  },
  {
   "cell_type": "markdown",
   "metadata": {},
   "source": [
    "Der Informationsgewinn vom Attribut Wind wird mit folgender Formel berechnet:\n",
    "\\begin{align*}\n",
    "  IG(Y|X) &= H(Y)-H(Y|X) \\\\\n",
    "  IG(Wind|Fußball) &= S - \\frac{D_{\\text{Wind=True}}}{D} \\cdot\n",
    "                          H(D_{\\text{Wind=True}}) -\n",
    "                          \\frac{D_{\\text{Wind=False}}}{D} \\cdot\n",
    "                          H(D_{\\text{Wind=False}})\\\\\n",
    "                  &= 0,04860\\\\\n",
    "\\end{align*}\n",
    "Hierbei ist $S$ die in a) berechnete Entropie, $D_{\\text{Wind=True}}$ die\n",
    "Anzahl der Wind-Einträge mit \"True\", $D_{\\text{Wind=False}}$ die Anzahl der\n",
    "Wind-Einträge mit \"False\" und $D=14$ die Gesamtanzahl der Einträge. H(X) bezeichnen die Entropien und werden wie in a) ausgerechnet. Die benötigten bedingten Wahrscheinlichkeiten zur Berechnung der Entropie lauten:\n",
    "\\begin{align*}\n",
    "  P(\\text{Fußball=True|Wind=True}) = \\frac{1}{2} \\\\\n",
    "  P(\\text{Fußball=False|Wind=True}) = \\frac{1}{2} \\\\\n",
    "  P(\\text{Fußball=True|Wind=False}) = \\frac{3}{4} \\\\\n",
    "  P(\\text{Fußball=False|Wind=False}) = \\frac{1}{4} \\\\\n",
    "\\end{align*}"
   ]
  },
  {
   "cell_type": "markdown",
   "metadata": {},
   "source": [
    "\n",
    "c) Berechnen Sie für die verbleibenden Attribute den Informationsgewinn in Abhängigkeit von\n",
    "verschiedenen Schnitten und plotten Sie den Informationsgewinn in Abhängigkeit der jeweiligen\n",
    "Schnitte"
   ]
  },
  {
   "cell_type": "code",
   "execution_count": 6,
   "metadata": {},
   "outputs": [
    {
     "name": "stdout",
     "output_type": "stream",
     "text": [
      "WETTER:\n",
      "Bester Schnitt:  1.0303030303030303\n",
      "Bester IG:  0.10224356360985076\n",
      "TEMPERATUR:\n",
      "Bester Schnitt:  28.303030303030305\n",
      "Bester IG:  0.1134008641811034\n",
      "LUFTFEUCHTIGKEIT:\n",
      "Bester Schnitt:  80.20202020202021\n",
      "Bester IG:  0.10224356360985076\n"
     ]
    },
    {
     "data": {
      "image/png": "[encoded data removed]",
      "text/plain": [
       "<Figure size 432x288 with 1 Axes>"
      ]
     },
     "metadata": {},
     "output_type": "display_data"
    },
    {
     "data": {
      "image/png": "[encoded data removed]",
      "text/plain": [
       "<Figure size 432x288 with 1 Axes>"
      ]
     },
     "metadata": {},
     "output_type": "display_data"
    },
    {
     "data": {
      "image/png": "[encoded data removed]",
      "text/plain": [
       "<Figure size 432x288 with 1 Axes>"
      ]
     },
     "metadata": {},
     "output_type": "display_data"
    }
   ],
   "source": [
    "def get_IG(D, Schnitt):\n",
    "    IG = np.zeros(len(Schnitt))\n",
    "\n",
    "\n",
    "    for l in range(len(Schnitt)):\n",
    "        D_u =  len(D[D < Schnitt[l]]) # Anzahl der Werte unter dem Schnitt\n",
    "        D_ü = len(D)-D_u # Anzahl der Werte über dem Schnitt\n",
    "\n",
    "\n",
    "        if D_u==0 or D_u==len(D):\n",
    "            IG[l]=0 # Falls alle Werte unter oder über dem Schnitt sind, ist\n",
    "                    # der Informationsgewinn 0\n",
    "        else:\n",
    "            # Berechnung der bedingten Wahrscheinlichkeiten p_unterSchnitt:\n",
    "            Anzahl_unterSchnitt_False = 0\n",
    "\n",
    "\n",
    "            for i in range(len(D)):\n",
    "                if D[i]<Schnitt[l] and Fußball[i]==False:\n",
    "                    Anzahl_unterSchnitt_False = Anzahl_unterSchnitt_False+1\n",
    "\n",
    "\n",
    "            p_unterSchnitt_False = Anzahl_unterSchnitt_False/D_u\n",
    "            p_unterSchnitt_True = 1-p_unterSchnitt_False\n",
    "            S_1 = get_Entropie(p_unterSchnitt_False, p_unterSchnitt_True)\n",
    "\n",
    "            # Berechnung der Wahrscheinlichkeit p_überSchnitt:\n",
    "            Anzahl_überSchnitt_False = 0\n",
    "\n",
    "\n",
    "            for i in range(len(D)):\n",
    "                if D[i]>=Schnitt[l] and Fußball[i]==False:\n",
    "                    Anzahl_überSchnitt_False = Anzahl_überSchnitt_False+1\n",
    "\n",
    "\n",
    "            p_überSchnitt_False=Anzahl_überSchnitt_False/D_ü\n",
    "            p_überSchnitt_True = 1-p_überSchnitt_False\n",
    "            S_2 = get_Entropie(p_überSchnitt_False, p_überSchnitt_True)\n",
    "\n",
    "            IG[l] = S - D_u/len(D)*S_1 - D_ü/len(D)*S_2\n",
    "\n",
    "    return IG\n",
    "# IG Wetter\n",
    "#Schnitt_Wetter = np.array([0,1,2,3])\n",
    "Schnitt_Wetter = np.linspace(0, 3, 100)\n",
    "IG_Wetter = get_IG(Wetter, Schnitt_Wetter)\n",
    "print('WETTER:')\n",
    "print('Bester Schnitt: ', Schnitt_Wetter[np.argmax(IG_Wetter)])\n",
    "print('Bester IG: ', np.max(IG_Wetter))\n",
    "\n",
    "# IG Temperatur:\n",
    "Schnitt_Temperatur = np.linspace(16, 30, 100)\n",
    "IG_Temperatur = get_IG(Temperatur, Schnitt_Temperatur)\n",
    "print('TEMPERATUR:')\n",
    "print('Bester Schnitt: ', Schnitt_Temperatur[np.argmax(IG_Temperatur)])\n",
    "print('Bester IG: ', np.max(IG_Temperatur))\n",
    "\n",
    "# IG Luftfeuchtigkeit\n",
    "Schnitt_Luft = np.linspace(60, 100, 100)\n",
    "IG_Luft = get_IG(Luftfeuchtigkeit, Schnitt_Luft)\n",
    "print('LUFTFEUCHTIGKEIT:')\n",
    "print('Bester Schnitt: ', Schnitt_Luft[np.argmax(IG_Luft)])\n",
    "print('Bester IG: ', np.max(IG_Luft))\n",
    "\n",
    "# Plot: Wetter\n",
    "plt.plot(Schnitt_Wetter, IG_Wetter)\n",
    "plt.xlabel('Schnitt, Wetter')\n",
    "plt.ylabel('IG, Wetter')\n",
    "plt.tight_layout()\n",
    "plt.savefig('IG_Wetter.pdf')\n",
    "plt.show()\n",
    "plt.clf()\n",
    "\n",
    "# Plot: Temperatur\n",
    "plt.plot(Schnitt_Temperatur, IG_Temperatur)\n",
    "plt.xlabel('Schnitt, Temperatur')\n",
    "plt.ylabel('IG, Temperatur')\n",
    "plt.tight_layout()\n",
    "plt.savefig('IG_Temperatur.pdf')\n",
    "plt.show()\n",
    "plt.clf()\n",
    "\n",
    "# Plot: Luftfeuchtigkeit\n",
    "plt.plot(Schnitt_Luft, IG_Luft)\n",
    "plt.xlabel('Schnitt, Luft')\n",
    "plt.ylabel('IG; Luft')\n",
    "plt.tight_layout()\n",
    "plt.savefig('IG_Luft.pdf')\n",
    "plt.show()\n",
    "plt.clf()"
   ]
  },
  {
   "cell_type": "markdown",
   "metadata": {
    "collapsed": true
   },
   "source": [
    "(d) Welches Attribut eignet sich am besten zum Trennen der Daten?\n"
   ]
  },
  {
   "cell_type": "markdown",
   "metadata": {
    "collapsed": true
   },
   "source": [
    "Am besten eignet sich das Attribut Temperatur zum Trennen der Daten, da hier beim besten Schnitt (28,3 Grad) der Informationsgewinn am größten ist. Bei den anderen\n",
    "Attributen ist des maximale Informationsgewinn geringer."
   ]
  },
  {
   "cell_type": "code",
   "execution_count": null,
   "metadata": {
    "collapsed": true
   },
   "outputs": [],
   "source": []
  }
 ],
 "metadata": {
  "kernelspec": {
   "display_name": "Python 3",
   "language": "python",
   "name": "python3"
  },
  "language_info": {
   "codemirror_mode": {
    "name": "ipython",
    "version": 3
   },
   "file_extension": ".py",
   "mimetype": "text/x-python",
   "name": "python",
   "nbconvert_exporter": "python",
   "pygments_lexer": "ipython3",
   "version": "3.6.1"
  }
 },
 "nbformat": 4,
 "nbformat_minor": 2
}
