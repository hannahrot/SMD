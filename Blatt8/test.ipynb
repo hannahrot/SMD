{
 "cells": [
  {
   "cell_type": "code",
   "execution_count": null,
   "metadata": {
    "collapsed": true
   },
   "outputs": [],
   "source": [
    "\n",
    "P_Wind_false = len(Wind[Wind==False])/len(Wind)\n",
    "P_Wind_true =1-P_Wind_false\n",
    "print(len(np.logical_and(Wind==True, Fußball==True)))\n",
    "P_Windtrue_fußballtrue = len(Wind[np.logical_and(Wind==True, Fußball==True)])/len(Wind[Wind==True])\n",
    "P_Windtrue_fußballfalse = len(Wind[np.logical_and(Wind==True, Fußball==False)])/len(Wind[Wind==True])\n",
    "P_Windfalse_fußballfalse = len(Wind[np.logical_and(Wind==False, Fußball==False)])/len(Wind[Wind==False])\n",
    "P_Windfalse_fußballtrue = len(Wind[np.logical_and(Wind==False, Fußball==True)])/len(Wind[Wind==False])\n",
    "print(P_Windtrue_fußballtrue, P_Windtrue_fußballfalse, P_Windfalse_fußballfalse, P_Windfalse_fußballtrue )\n",
    "\n",
    "\n",
    "IG=S-((len(Wind[Wind==True])/14)*(- get_Entropie(P_Windtrue_fußballtrue, P_Windtrue_fußballfalse))) - (len(Wind[Wind==False])/14)*(-get_Entropie(P_Windfalse_fußballtrue, P_Windfalse_fußballfalse))\n",
    "print(IG) "
   ]
  }
 ],
 "metadata": {
  "kernelspec": {
   "display_name": "Python 3",
   "language": "python",
   "name": "python3"
  },
  "language_info": {
   "codemirror_mode": {
    "name": "ipython",
    "version": 3
   },
   "file_extension": ".py",
   "mimetype": "text/x-python",
   "name": "python",
   "nbconvert_exporter": "python",
   "pygments_lexer": "ipython3",
   "version": "3.6.1"
  }
 },
 "nbformat": 4,
 "nbformat_minor": 2
}
